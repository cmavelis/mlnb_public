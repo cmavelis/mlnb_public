{
 "cells": [
  {
   "cell_type": "code",
   "execution_count": 26,
   "metadata": {},
   "outputs": [],
   "source": [
    "import numpy as np\n",
    "import pandas as pd\n",
    "import random\n",
    "import math"
   ]
  },
  {
   "cell_type": "code",
   "execution_count": 28,
   "metadata": {},
   "outputs": [],
   "source": [
    "def uniform_circle_dataset(centers, radii, n = 10):\n",
    "    data = {'y':[], 'x1':[], 'x2':[]}\n",
    "    for label, (center, radius) in enumerate(zip(centers, radii)):\n",
    "        for _ in range(n):\n",
    "            a = random.uniform(0, 2 * math.pi)\n",
    "            r = radius * math.sqrt(random.uniform(0, 1))\n",
    "            data['y'].append(label * 2 - 1)\n",
    "            data['x1'].append(center[0] + r * math.cos(a))\n",
    "            data['x2'].append(center[1] + r * math.sin(a))\n",
    "    return pd.DataFrame.from_dict(data)"
   ]
  },
  {
   "cell_type": "code",
   "execution_count": 46,
   "metadata": {},
   "outputs": [],
   "source": [
    "def led_dataset(labels = None, noise = 0.0, samples = 100):\n",
    "    patterns = {0:'1110111',\n",
    "                1:'0010010',\n",
    "                2:'1011101',\n",
    "                3:'1011011',\n",
    "                4:'0111010',\n",
    "                5:'1101011',\n",
    "                6:'1101111',\n",
    "                7:'1010010',\n",
    "                8:'1111111',\n",
    "                9:'1111011'\n",
    "                }\n",
    "\n",
    "    cols = ['top', 'top_left', 'top_right', 'middle', 'bottom_left', \n",
    "            'bottom_right', 'bottom', 'y']\n",
    "    \n",
    "    if labels is None:\n",
    "        labels = list(range(10))\n",
    "\n",
    "    X = []\n",
    "    for label in labels:\n",
    "        for _ in range(samples):\n",
    "            x = [int(v) for v in patterns[label]]\n",
    "            x = [(v + 1) % 2 if random.random() < noise else v for v in x]\n",
    "            x = [str(v) for v in x]\n",
    "            X.append(x)\n",
    "    X = list(map(list, zip(*X)))\n",
    "            \n",
    "    Y = []\n",
    "    for label in labels:\n",
    "        Y += [label] * samples\n",
    "    X.append(Y)\n",
    "            \n",
    "    return pd.DataFrame({col:data for col, data in zip(cols, X)})"
   ]
  },
  {
   "cell_type": "code",
   "execution_count": 47,
   "metadata": {},
   "outputs": [],
   "source": [
    "import matplotlib.pyplot as plt\n",
    "\n",
    "def plot_led(D, cols, size = 3, label = True):\n",
    "    rows = math.ceil(len(D) / cols)\n",
    "    fig, axes = plt.subplots(rows, cols, sharex = False, sharey = False, figsize=(size * cols, size * rows))\n",
    "    axes = axes.flatten().tolist()\n",
    "    \n",
    "    for axis in axes:\n",
    "        axis.set_xticks([])\n",
    "        axis.set_yticks([])\n",
    "        axis.axis('off')\n",
    "        margin = size * 0.2\n",
    "        axis.set_xlim((-margin, size + margin))\n",
    "        axis.set_ylim((size - margin, 3*size + margin))\n",
    "        \n",
    "    for idx, row in D.iterrows():\n",
    "        axis = axes[idx]\n",
    "        axis.axis('on')\n",
    "    \n",
    "        if label:\n",
    "            axis.set_title(row['y'])\n",
    "                    \n",
    "        for feature in row.keys():\n",
    "            if feature == 'y' or row[feature] == '0':\n",
    "                continue\n",
    "            if feature == 'top':\n",
    "                axis.plot((0, size), (3*size, 3*size), lw = 10, solid_capstyle='round', color = 'black')\n",
    "            if feature == 'top_left':\n",
    "                axis.plot((0, 0), (3*size, 2*size), lw = 10, solid_capstyle='round', color = 'black')\n",
    "            if feature == 'top_right':\n",
    "                axis.plot((size, size), (3*size, 2*size), lw = 10, solid_capstyle='round', color = 'black')\n",
    "            if feature == 'middle':\n",
    "                axis.plot((0, size), (2*size, 2*size), lw = 10, solid_capstyle='round', color = 'black')\n",
    "            if feature == 'bottom_left':\n",
    "                axis.plot((0, 0), (2*size, size), lw = 10, solid_capstyle='round', color = 'black')\n",
    "            if feature == 'bottom_right':\n",
    "                axis.plot((size, size), (2*size, size), lw = 10, solid_capstyle='round', color = 'black')\n",
    "            if feature == 'bottom':\n",
    "                axis.plot((0, size), (size, size), lw = 10, solid_capstyle='round', color = 'black')\n",
    "        \n",
    "    plt.show()"
   ]
  },
  {
   "cell_type": "code",
   "execution_count": 51,
   "metadata": {},
   "outputs": [],
   "source": [
    "# D = led_dataset(samples = 1, noise = 0.0)"
   ]
  },
  {
   "cell_type": "code",
   "execution_count": 52,
   "metadata": {},
   "outputs": [],
   "source": [
    "# plot_led(D, cols = 5)"
   ]
  },
  {
   "cell_type": "code",
   "execution_count": null,
   "metadata": {},
   "outputs": [],
   "source": []
  },
  {
   "cell_type": "code",
   "execution_count": null,
   "metadata": {},
   "outputs": [],
   "source": []
  }
 ],
 "metadata": {
  "kernelspec": {
   "display_name": "Python [conda env:anaconda3]",
   "language": "python",
   "name": "conda-env-anaconda3-py"
  },
  "language_info": {
   "codemirror_mode": {
    "name": "ipython",
    "version": 3
   },
   "file_extension": ".py",
   "mimetype": "text/x-python",
   "name": "python",
   "nbconvert_exporter": "python",
   "pygments_lexer": "ipython3",
   "version": "3.5.6"
  }
 },
 "nbformat": 4,
 "nbformat_minor": 1
}
