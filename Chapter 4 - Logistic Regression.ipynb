{
 "cells": [
  {
   "cell_type": "markdown",
   "id": "49036d26-2b7f-478c-8d75-c30564c3b17a",
   "metadata": {},
   "source": [
    "# Chapter 4 - Logistic Regression"
   ]
  },
  {
   "cell_type": "code",
   "execution_count": 1,
   "id": "71dc3b01-fa4c-404f-8575-5b673746e225",
   "metadata": {},
   "outputs": [],
   "source": [
    "import sys\n",
    "if 'google.colab' in sys.modules:\n",
    "    !git clone https://github.com/jtooates/mlnb_public.git &> /dev/null\n",
    "    !mv mlnb_public/* . &> /dev/null"
   ]
  },
  {
   "cell_type": "code",
   "execution_count": 2,
   "id": "5dec5259-b2f5-4164-8fd1-fbf80646d97e",
   "metadata": {},
   "outputs": [],
   "source": [
    "%run Chapter\\ 4\\ Utilities.ipynb"
   ]
  },
  {
   "cell_type": "markdown",
   "id": "2cb0e502-f9dd-4f37-b563-f0644d14cc0c",
   "metadata": {},
   "source": [
    "In chapter 2 we explored the Perceptron Learning Algorithm (PLA), which learns a weight vector ${\\bf w}$ such that ${\\tt sign}({\\bf w} \\cdot {\\bf x_i}) = y_i$ for all instances $({\\bf x_i}, y_i)$ in a linearly separable training set.  Recall that the output of the Perceptron for a new ${\\bf x}$ is either ${\\tt -1}$ or ${\\tt +1}.$  If the training set contains loan applications (i.e., the values of ${\\bf x_i}$) and whether the applicant paid off their loan on time (i.e., the values of $y_i$), the Perceptron will tell you if a new applicant will (${\\tt +1}$) or won't (${\\tt -1}$) pay off their loan on time.  If the training set contains symptoms and whether the patient had appendicitis, the Perceptron will tell tell you if the patient needs or does not need an appendectomy. "
   ]
  },
  {
   "cell_type": "markdown",
   "id": "a5d3eadf-420e-423f-b865-50b63d5218f8",
   "metadata": {},
   "source": [
    "In this chapter we'll explore the Logistic Regression (LR) algorithm, which also learns weight vectors but is a probabilistic classifier.  Rather than producing a class label as output, LR produces probabilities of class labels, which is often very useful information.  To manage risk, a loan officer may approve larger loans for applicants that have a 99% chance of paying back their loans on time compared to those who have an 80% chance of paying back their loans on time.  Similarly, a doctor would not want to proceed with an appendectomy if the chance of needing one is only 70%, but would order more tests to get more certainty."
   ]
  },
  {
   "cell_type": "markdown",
   "id": "7aed99ad-17f2-4424-9900-e3e554db8a9c",
   "metadata": {},
   "source": [
    "Logistic Regression is a useful algorithm in its own right, and learning about it will introduce a number of basic building blocks and ideas that we'll see in later chapters on neural networks.  The remainder of this chapter is organized as follows:\n",
    "* Section 4.1 describes the problem that LR solves and how it produces probabilities as opposed to class labels.\n",
    "* Section 4.2 is a quick review of a few key concepts from probability theory that are needed to derive the LR algorithm.\n",
    "* Section 4.3 applies the machinery of gradient descent from chapter 3 to derive the LR update rule, introducing the cross-entropy loss for probabilistic classifiers.  This section contains a lot of math related to deriving the gradient.  It is perfectly OK to read the first part that decribes the function to be optimized and the last part that shows final update rule and explains why it makes intuitive sense.\n",
    "* Section 4.4 contains an implementation of the algorithm, shows the behavior on a sample dataset, and identifies some practical issues that need attention when using LR on real data.\n",
    "* Section 4.5 explains how to adapt LR to deal with more than two classes.\n",
    "* Section 4.6 has a few closing thoughts."
   ]
  },
  {
   "cell_type": "markdown",
   "id": "762137aa-d229-4fad-ac88-144dde8b2b11",
   "metadata": {},
   "source": [
    "## 4.1 From Weight Vectors to Probabilities"
   ]
  },
  {
   "cell_type": "markdown",
   "id": "d3563f1e-037b-4cd4-a5ca-bd849df78f20",
   "metadata": {},
   "source": [
    "LR takes as input, just like the PLA, a training set with feature vectors ${\\bf x} \\in \\mathbb{R}^n$.  If a bias is needed, which is typically the case, we'll assume that one of the features is a constant value (e.g., $x_0 = 1$).  Like the Perceptron, LR is a binary classifier.  To make the math easier later on the class label will be either ${\\tt 0}$ or ${\\tt 1}$."
   ]
  },
  {
   "cell_type": "markdown",
   "id": "52d77c42-69cd-4d4a-a733-f1ba5a1d8229",
   "metadata": {},
   "source": [
    "Given a training set, LR learns a weight vector ${\\bf w} \\in \\mathbb{R}^n$ that is used to compute the probability that the correct class label is either ${\\tt 0}$ or ${\\tt 1}$.  Let $p^1_{\\bf w}({\\bf x})$ denote the probability that the true class label for input ${\\bf x}$ is ${\\tt 1}$.  Likewise, $p^0_{\\bf w}({\\bf x})$ denotes the probability that the true class label for input ${\\bf x}$ is ${\\tt 0}$.  Because they are probabilities, it must be the case that $0 \\leq  p^1_{\\bf w}({\\bf x}) \\leq 1$ and likewise for $p^0_{\\bf w}({\\bf x})$.  And because there are only two possible class labels it must be the case that $p^1_{\\bf w}({\\bf x}) + p^0_{\\bf w}({\\bf x}) = 1$."
   ]
  },
  {
   "cell_type": "markdown",
   "id": "22b97700-5ca6-4ae9-8ad8-78fca30e2b8d",
   "metadata": {},
   "source": [
    "Note that both $p^1_{\\bf w}$ and $p^0_{\\bf w}$ depend on ${\\bf w}$, the learned weight vector.  Different weight vectors will produce different probabilities for the same input ${\\bf x}$.  Two questions immediately come to mind.  First, how do weight and input vectors get turned into probabilities?  Second, what loss function does LR minimize in gradient descent to find a \"good\" weight vector?  We'll answer the first question now and provide intuition for the second, with a mathematically precise answer waiting until section 4.3."
   ]
  },
  {
   "cell_type": "markdown",
   "id": "a3c17639-0ecd-4665-8d20-7fb1c422f55f",
   "metadata": {},
   "source": [
    "Recall that the PLA computed the value of ${\\bf w} \\cdot {\\bf x}$ and handed that value to the ${\\tt sign}()$ function to determine the class label.  That function is shown below, with ${\\bf w} \\cdot {\\bf x}$ on the horizontal axis and $y$ on the vertical axis."
   ]
  },
  {
   "cell_type": "code",
   "execution_count": 3,
   "id": "2edda0e6-9736-49cf-9022-256567b3138e",
   "metadata": {},
   "outputs": [
    {
     "data": {
      "image/png": "[encoded data removed]",
      "text/plain": [
       "<Figure size 432x288 with 1 Axes>"
      ]
     },
     "metadata": {
      "needs_background": "light"
     },
     "output_type": "display_data"
    }
   ],
   "source": [
    "plot_sign()"
   ]
  },
  {
   "cell_type": "markdown",
   "id": "94482ef4-92c7-405c-a015-2a786cb93696",
   "metadata": {},
   "source": [
    "Note that the sign function is a step.  It doesn't matter if ${\\bf w} \\cdot {\\bf x}$ is 0.1 or 1 or 10.  As long as that value is positive, the instance is classified as positive.  Likewise, it doesn't matter if ${\\bf w} \\cdot {\\bf x}$ is -0.1 or -1 or -10.  As long as that value is negative, the instance is classified as negative."
   ]
  },
  {
   "cell_type": "markdown",
   "id": "9483798d-e800-4d31-8ed4-da20aa0788f7",
   "metadata": {},
   "source": [
    "Logistic Regression computes the value of ${\\bf w} \\cdot {\\bf x}$. But instead of passing it to the ${\\tt sign}$ function like the PLA, the *logistic* or *sigmoid* function is used, which is denoted $\\sigma$ and has the following form:\n",
    "\n",
    "$$\n",
    "\\sigma(x) = \\frac{1}{1 + e^{-x}}\n",
    "$$\n",
    "\n",
    "We'll explain where this function comes from in a moment, but for now we'll explore some nice properties that it has as shown in the plot below.  "
   ]
  },
  {
   "cell_type": "code",
   "execution_count": 4,
   "id": "64e9bd07-006b-4c87-8733-9623c4374fb4",
   "metadata": {},
   "outputs": [
    {
     "data": {
      "image/png": "[encoded data removed]",
      "text/plain": [
       "<Figure size 432x288 with 1 Axes>"
      ]
     },
     "metadata": {
      "needs_background": "light"
     },
     "output_type": "display_data"
    }
   ],
   "source": [
    "plot_logistic(generic = False)"
   ]
  },
  {
   "cell_type": "markdown",
   "id": "a6d2ef84-16b6-4d6a-804c-f35c019a555e",
   "metadata": {},
   "source": [
    "The horizontal axis is ${\\bf w} \\cdot {\\bf x}$, just like in the previous plot.  But now the vertical axis is not the class label, it is the *probability* that the class label for instance ${\\bf x}$ is ${\\tt 1}$ given the current weight vector.  That is, the vertical axis is:\n",
    "    \n",
    "$$\n",
    "p^1_{\\bf w}({\\bf x}) = \\frac{1}{1 + e^{-{\\bf w} \\cdot {\\bf x}}}\n",
    "$$\n",
    "\n",
    "Gone is the step behavior of the ${\\tt sign()}$ function; $p^1_{\\bf w}({\\bf x})$ varies smoothly as a function of ${\\bf w} \\cdot {\\bf x}.$  The sigmoid function is sometimes called a \"squashing\" function because its domain is the entire real line (i.e., possible values of ${\\bf w} \\cdot {\\bf x}$) which is mapped or squashed into the range $[0, 1]$, allowing us to interpret its output as a probability."
   ]
  },
  {
   "cell_type": "markdown",
   "id": "7994b445-950f-4d30-8cc4-8176b51e8ef3",
   "metadata": {},
   "source": [
    "Suppose ${\\bf w} \\cdot {\\bf x} = 0$.  Then it is the case that:\n",
    "\n",
    "\\begin{eqnarray*}\n",
    "p^1_{\\bf w}({\\bf x}) & = & 1 / (1 + e^{-{\\bf w} \\cdot {\\bf x}} ) \\\\\n",
    "& = & 1/(1 + e^0) \\\\\n",
    "& = & 1/(1 + 1) \\\\\n",
    "& = & 0.5\n",
    "\\end{eqnarray*}\n",
    "\n",
    "And because $p^1_{\\bf w}({\\bf x}) + p^0_{\\bf w}({\\bf x}) = 1$, it is also the case that $p^0_{\\bf w}({\\bf x}) = 0.5$.  That is, when ${\\bf w} \\cdot {\\bf x} = 0$ the instance is equally likely to belong to either class.  This is reminiscent of the Perceptron where points for which ${\\bf w} \\cdot {\\bf x} = 0$ were on the separating hyperplane."
   ]
  },
  {
   "cell_type": "markdown",
   "id": "57b0f9a6-a53a-49aa-97f3-82232f412394",
   "metadata": {},
   "source": [
    "When ${\\bf w} \\cdot {\\bf x} > 0$ the value of $p^1_{\\bf w}({\\bf x}) > 0.5$ as is clear from the plot above, and it is more likely that the correct class label is ${\\tt 1}$ as opposed to ${\\tt 0}$.  In contrast to the Perceptron, which doesn't care about the magnitude of ${\\bf w} \\cdot {\\bf x}$, for LR the larger the value of ${\\bf w} \\cdot {\\bf x}$ the more certain the classifier becomes.  When ${\\bf w} \\cdot {\\bf x} = 0.1$, $p^1_{\\bf w}({\\bf x}) = 0.52$.  That probability becomes $0.73$ when ${\\bf w} \\cdot {\\bf x} = 1$ and $0.99$ when ${\\bf w} \\cdot {\\bf x} = 10$.  The larger the value of ${\\bf w} \\cdot {\\bf x}$ the higher the probability that the instance belongs to class ${\\tt 1}$ and the lower the probability that the instance belongs to class ${\\tt 0}$."
   ]
  },
  {
   "cell_type": "markdown",
   "id": "a22814ed-363a-4fb5-974b-d0a6508c6188",
   "metadata": {},
   "source": [
    "When ${\\bf w} \\cdot {\\bf x} < 0$ the value of $p^1_{\\bf w}({\\bf x}) < 0.5$ as is clear from the plot above, and it is more likely that the correct class label is ${\\tt 0}$ as opposed to ${\\tt 1}$.  When ${\\bf w} \\cdot {\\bf x} = -0.1$, $p^1_{\\bf w}({\\bf x}) = 0.48$.  That probability becomes $0.27$ when ${\\bf w} \\cdot {\\bf x} = -1$ and $0.01$ when ${\\bf w} \\cdot {\\bf x} = -10$.  The more negative the value of ${\\bf w} \\cdot {\\bf x}$ the higher the probability that the instance belongs to class ${\\tt 0}$ and the lower the probability that the instance belongs to class ${\\tt 1}$."
   ]
  },
  {
   "cell_type": "markdown",
   "id": "c3842846-dd87-4d99-a1ef-17fb92dc907e",
   "metadata": {},
   "source": [
    "But where did the sigmoid function come from?  Surely there are other functions that squash the real line into the range $[0, 1]$ that would work just as well.  It turns out that the sigmoid is the only function for which the log odds are linear.  Let's unpack that."
   ]
  },
  {
   "cell_type": "markdown",
   "id": "a23fbd8c-c7f5-4073-85c8-0295e5d67af7",
   "metadata": {},
   "source": [
    "Recall that the *odds* of something happening is the ratio of the probability of that thing happening to the probability of it not happening.  If $p$ is the probability of your team winning the game, then the odds of them winning is just $p/(1-p)$.  When they have a 50-50 chance, the odds are 1.  If they are more likely to win than lose then the odds are greater than one, and if they are more likely to lose than win the odds are less than 1."
   ]
  },
  {
   "cell_type": "markdown",
   "id": "d200ba4d-7a1c-4cee-a2ea-044f16aff0bd",
   "metadata": {},
   "source": [
    "What does it mean for the log odds to be linear in the context of LR?  Mathematically it means the following:\n",
    "\n",
    "$$\n",
    "\\ln\\left( \\frac{p^1_{\\bf w}({\\bf x})}{p^0_{\\bf w}({\\bf x})} \\right) =  {\\bf w} \\cdot {\\bf x}\n",
    "$$\n",
    "\n",
    "In words, the log of the odds of class ${\\tt 1}$ being the correct class is a linear function of the instance ${\\bf x}$.  A unit change in one of the feature values ($x_i$) leads to a constant change in the log odds where the magnitude of that change is controlled by the magnitude of the corresponding weight ($w_i$)."
   ]
  },
  {
   "cell_type": "markdown",
   "id": "105ea66d-e8a0-40b6-81f8-6ad251cb24cf",
   "metadata": {},
   "source": [
    "As shown below, requiring the log odds to be a linear function of ${\\bf x}$ leads directly to the sigmoid as the representation for $p^1_{\\bf w}({\\bf x})$, which is abbreviated as $p^1_{\\bf w}$ to keep things concise.  The derivation starts with the requirement of linear log odds, and then exponentiates both sides to get rid of the log.  From there it's just algebra, including the last step where the top and bottom of the right-hand side are multiplied by $1/e^{{\\bf w} \\cdot {\\bf x}}$ to get to the form of the sigmoid introduced earlier in this chapter.\n",
    "\n",
    "\\begin{eqnarray*}\n",
    "\\ln(p^1_{\\bf w}/p^0_{\\bf w}) & = & {\\bf w} \\cdot {\\bf x} \n",
    "\\tag*{Linear log odds}\n",
    "\\\\[0.2cm]\n",
    "p^1_{\\bf w}/p^0_{\\bf w} & = & e^{{\\bf w} \\cdot {\\bf x}} \n",
    "\\tag*{Exponentiate both sides} \n",
    "\\\\[0.2cm]\n",
    "p^1_{\\bf w}/(1 - p^1_{\\bf w}) & = & e^{{\\bf w} \\cdot {\\bf x}} \n",
    "\\tag*{Rewrite $p^0_{\\bf w}$ in terms of $p^1_{\\bf w}$}\n",
    "\\\\[0.2cm]\n",
    "p^1_{\\bf w} & = & (1 - p^1_{\\bf w}) e^{{\\bf w} \\cdot {\\bf x}} \n",
    "\\tag*{Solve for $p^1_{\\bf w}$}\n",
    "\\\\[0.2cm]\n",
    "p^1_{\\bf w} & = & e^{{\\bf w} \\cdot {\\bf x}} - p^1_{\\bf w} e^{{\\bf w} \\cdot {\\bf x}} \\\\[0.2cm]\n",
    "p^1_{\\bf w} + p^1_{\\bf w} e^{{\\bf w} \\cdot {\\bf x}} & = & e^{{\\bf w} \\cdot {\\bf x}} \\\\[0.2cm]\n",
    "p^1_{\\bf w}(1 + e^{{\\bf w} \\cdot {\\bf x}}) & = & e^{{\\bf w} \\cdot {\\bf x}} \\\\[0.2cm]\n",
    "p^1_{\\bf w} & = & \\frac{e^{{\\bf w} \\cdot {\\bf x}}}{1 + e^{{\\bf w} \\cdot {\\bf x}}}\n",
    "\\tag*{Divide top and bottom by $e^{{\\bf w} \\cdot {\\bf x}}$}\n",
    "\\\\[0.2cm]\n",
    "p^1_{\\bf w} & = & \\frac{1}{1 + e^{-{\\bf w} \\cdot {\\bf x}}} \n",
    "\\end{eqnarray*}"
   ]
  },
  {
   "cell_type": "markdown",
   "id": "292e5f41-37c4-48e0-a0bd-7d97e14b4f81",
   "metadata": {},
   "source": [
    "So where are we now?  We know that Logistic Regression is a probabilistic binary classifer.  Given a training set it learns a weight vector, and that weight vector is combined with new instances via the sigmoid function to get the probability that they belong to class ${\\tt 1}$ or ${\\tt 0}$.  We use the sigmoid because it makes the log odds of class ${\\tt 1}$ linear in the feature vector."
   ]
  },
  {
   "cell_type": "markdown",
   "id": "b8abda24-b376-4c0e-a38b-a61f0584bda9",
   "metadata": {},
   "source": [
    "But how does LR arrive at a weight vector?  What makes one weight vector better than another?  Intuitively, LR tries to maximize the probability of the correct class label.  If $({\\bf x_i}, y_i = 1)$ is a training instance, the algorithm will adjust the weight vector to increase $p^1_{\\bf w}({\\bf x_i})$ and thus decrease $p^0_{\\bf w}({\\bf x_i})$.  If $({\\bf x_i}, y_i = 0)$ is a training instance, the weight vector will change to increase $p^0_{\\bf w}({\\bf x_i})$ and thus decrease $p^1_{\\bf w}({\\bf x_i})$. The final weight vector will reflect the push and pull of all of the instances in the training set.  This is an example of maximum likelihood estimation, which is covered in the next section."
   ]
  },
  {
   "cell_type": "markdown",
   "id": "97a03194-c431-4801-bf00-7d8982e80ef8",
   "metadata": {},
   "source": [
    "We'll make the intuition above formal in section 4.3, right after a very quick review of a few concepts from probability needed to derive the LR update rule."
   ]
  },
  {
   "cell_type": "markdown",
   "id": "31bffc03-a880-4d53-b492-2ae93d33d828",
   "metadata": {},
   "source": [
    "## 4.2 Just Enough Probability to Derive the Update Rule"
   ]
  },
  {
   "cell_type": "markdown",
   "id": "6dface12-c816-41af-b77d-e5cfe47a8393",
   "metadata": {},
   "source": [
    "Because Logistic Regression is a probabilistic classifier, we'll use a few simple concepts from probability theory during the derivation of it's update rule.  This section contains a very quick refresher for those concepts."
   ]
  },
  {
   "cell_type": "markdown",
   "id": "ed852d08-d4f6-4629-b8fb-87bcc37e0ce4",
   "metadata": {},
   "source": [
    "### Random Variables"
   ]
  },
  {
   "cell_type": "markdown",
   "id": "f8c884b2-d865-48d5-b04c-ad25e752c25e",
   "metadata": {},
   "source": [
    "A **random variable** is a variable whose value is the result of some process or event that involves uncertainty.  A **discrete random variable** is one that can take on a finite number of distinct values, like ${\\tt heads}$ or ${\\tt tails}$ representing the outcome of a coin flip or numbers in $\\{1, 2, 3, 4, 5, 6\\}$ representing the outcome of a die roll.  A **continuous random variable** is one that can take on an infinite number of distinct values, typically subsets of the real line, like daily rainfall amounts or closing prices of financial securities."
   ]
  },
  {
   "cell_type": "markdown",
   "id": "a00961aa-30de-4509-9856-24799e2230c0",
   "metadata": {},
   "source": [
    "For discrete random variable $X$, let $p(X = x)$ denote the probability that $X$ takes on value $x$.  It must be the case that $0 \\leq p(X = x) \\leq 1$ for all $x$ and that the sum of $p(X = x)$ over all $x$ is 1.  If $X$ represents the outcome of a fair coin flip then $p(X = {\\tt heads}) = p(X = {\\tt tails}) = 0.5$ and $p(X = {\\tt heads}) + p(X = {\\tt tails}) = 1$."
   ]
  },
  {
   "cell_type": "markdown",
   "id": "21eac410-819e-40a6-a5ad-9316bb89f1e7",
   "metadata": {},
   "source": [
    "A **joint probability** is the probability of two or more random variables taking on specific values at the same time.  If $X$ represents the outcome of a coin flip and $Y$ represents the outcome of a die roll, then $p(X = {\\tt heads}, Y = {\\tt 5})$ is the probability that the coin comes up ${\\tt heads}$ and the die comes up ${\\tt 5}$."
   ]
  },
  {
   "cell_type": "markdown",
   "id": "7e982416-a223-4a46-a60e-b109d4ac536e",
   "metadata": {},
   "source": [
    "Two random variables are **independent** if knowing the value of one gives you no information about the value of the other.  Suppose I ask you what the probability is that a fair die will come up ${\\tt 5}$.  You would say $1/6$.  If I tell you that the coin came up ${\\tt heads}$ and ask the same question, you'll still say $1/6$ because the coin flip and the die roll do not influence each other, they are independent."
   ]
  },
  {
   "cell_type": "markdown",
   "id": "90444aa9-7e6e-498d-9ad9-73859bc626f6",
   "metadata": {},
   "source": [
    "Now suppose I ask you what the probability is that a person chosen at random in the US is above the median age.  You'd clearly answer 0.5 because, by definition, half of the people are older than the median and half are younger.  But if I tell you that the person is retired your estimate of the probability that they are above the median age will go up, perhaps significantly.  That's because age and retirement status are dependent.  The younger you are the less likely you are to be retired and the older you are the more likely you are to be retired."
   ]
  },
  {
   "cell_type": "markdown",
   "id": "a13f88cc-050f-4a32-9bf7-17ecee5391cd",
   "metadata": {},
   "source": [
    "More formally, two random variables are independent if and only if the joint probability is equal to the product of the individual probabilities:\n",
    "\n",
    "$$p(X = x, Y = y) = p(X = x) p(Y = y)$$\n",
    "\n",
    "If you want to know $p(X = {\\tt heads}, Y = {\\tt 5})$ it suffices to compute $p(X = {\\tt heads}) p(Y = {\\tt 5})$ because coin flips are die rolls are independent.  But it is *not* the case that $p(X = {\\tt above\\ median\\ age}, Y = {\\tt retired})$ is equal to $p(X = {\\tt above\\ median\\ age}) p(Y = {\\tt retired})$ because age and retirement status are not independent."
   ]
  },
  {
   "cell_type": "markdown",
   "id": "5e5d390d-83e1-4e56-b069-35216e5d9ec9",
   "metadata": {},
   "source": [
    "In the two variable case, a **conditional probability** is the probability that one of the variables takes on a specific value given the value of the other and is written $p(X = x | Y = y)$.  If you're in a world where you've observed the value of $Y$ to be $y$, what is the probability that $X = x$?  For example, $p(X = {\\tt above\\ median\\ age} | Y = {\\tt retired})$ is the probability that a person who is known to be retired is above the median age. That is the fraction of retired people who are above the median age."
   ]
  },
  {
   "cell_type": "markdown",
   "id": "263f6d5b-30f8-4fac-8ddb-dd2494c0161d",
   "metadata": {},
   "source": [
    "The conditional and joint probabilities are related by the following equality known as the **chain rule of probability**:\n",
    "\n",
    "$$p(X = x, Y = y) = p(X = x | Y = y) p(Y = y)$$\n",
    "\n",
    "If $X$ and $Y$ are independent, then $p(X = x | Y = y) = p(X = x)$.  That's another way of saying that knowing the value of $Y$ does not change your mind about the probability of $x$ being the value of $X$.  We show that mathematically below, where the second line follows from the first due to idendendence of $X$ and $Y$, and the third line follows from the second after dividing both sides by $p(Y = y)$:\n",
    "\n",
    "\\begin{eqnarray*}\n",
    "p(X = x, Y = y) & = & p(X = x | Y = y) p(Y = y) \\\\[0.2cm]\n",
    "p(X = x) p(Y = y) & = & p(X = x | Y = y) p(Y = y) \\\\[0.2cm]\n",
    "p(X = x) & = & p(X = x | Y = y)\n",
    "\\end{eqnarray*}"
   ]
  },
  {
   "cell_type": "markdown",
   "id": "514ec663-6c1b-4dad-aaf5-74f9e30ea172",
   "metadata": {},
   "source": [
    "### Maximum Likelihood Estimation"
   ]
  },
  {
   "cell_type": "markdown",
   "id": "3d1d0228-a234-469a-8a73-1a6d53d3039c",
   "metadata": {},
   "source": [
    "Suppose you have a biased coin that comes up heads with unknown probability $\\theta$.  You flip the coin 10 times and get 7 heads and 3 tails.  What value would you assign to $\\theta$?  The obvious answer is $7/10$, the number of heads divided by the number of flips.  It turns out that this obvious answer is the **maximum likelihood estimate** (MLE) of $\\theta$.  That is, it is the value that maximizes the probability of the data that you observed."
   ]
  },
  {
   "cell_type": "markdown",
   "id": "80318b49-fa16-48ed-83d0-819fd8558f02",
   "metadata": {},
   "source": [
    "Suppose the sequence of coin flips was $D = \\{{\\tt H, H, T, H, H, H, H, T, T, H}\\}$.  Let $L(D; \\theta)$ denote the likelihood of the data, the probability of observing $D$ given a specific value of $\\theta$, and let $p_\\theta()$ denote a probability given a specific value of $\\theta$:\n",
    "\n",
    "\\begin{eqnarray*}\n",
    "L(D; \\theta) = p_\\theta({\\tt H, H, T, H, H, H, H, T, T, H})\n",
    "\\end{eqnarray*}\n",
    "\n",
    "Because the coin flips are independent of one another, we can rewrite the joint probability as a product of individual probabilities and simplify:\n",
    "\n",
    "\\begin{eqnarray*}\n",
    "L(D; \\theta) & = & p_\\theta({\\tt H}) p_\\theta({\\tt H}) p_\\theta({\\tt T}) p_\\theta({\\tt H}) p_\\theta({\\tt H}) p_\\theta({\\tt H}) p_\\theta({\\tt H}) p_\\theta({\\tt T}) p_\\theta({\\tt T}) p_\\theta({\\tt H}) \\\\\n",
    "& = & p_\\theta({\\tt H})^7 p_\\theta({\\tt T})^3 \\\\\n",
    "& = & p_\\theta({\\tt H})^7 (1 - p_\\theta({\\tt H}))^3 \\\\\n",
    "& = & \\theta^7 (1 - \\theta)^3\n",
    "\\end{eqnarray*}\n",
    "\n",
    "The MLE for $\\theta$ is the value that maximizes $L(D; \\theta) = \\theta^7 (1 - \\theta)^3$, i.e., the probability of seeing 7 heads and 3 tails in 10 flips.  The plot below shows $L(D; \\theta)$ on the vertical axis as a function of $\\theta$ on the horizontal axis.  Note that the maximum lies at $\\theta = 0.7$, which accords with intuition."
   ]
  },
  {
   "cell_type": "code",
   "execution_count": 5,
   "id": "b0b799bf-4fae-46a8-a834-4506acac4673",
   "metadata": {},
   "outputs": [
    {
     "data": {
      "image/png": "[encoded data removed]",
      "text/plain": [
       "<Figure size 432x288 with 1 Axes>"
      ]
     },
     "metadata": {
      "needs_background": "light"
     },
     "output_type": "display_data"
    }
   ],
   "source": [
    "plot_MLE()"
   ]
  },
  {
   "cell_type": "markdown",
   "id": "9ea88a29-9849-4795-9fd9-6ac08ea785e9",
   "metadata": {},
   "source": [
    "We're finally ready to derive the update rule for Logistic Regression!"
   ]
  },
  {
   "cell_type": "markdown",
   "id": "ffcb8672-e271-41de-8322-aef26f2dc69e",
   "metadata": {},
   "source": [
    "## 4.3 Deriving the Logistic Regression Update Rule"
   ]
  },
  {
   "cell_type": "markdown",
   "id": "8afe7e7c-4bb0-4e8b-997b-afc612fd8d24",
   "metadata": {},
   "source": [
    "As described in Chapter 3, gradient descent is machine learning's hammer and it's looking for nails.  In this section we frame Logistic Regression in those terms which, as by now you know, involves defining a suitable loss function and computing the partial derivatives of that loss function with respect to the learnable parameters, i.e., the weights.  We'll take a slightly different approach here by first deriving the likelihood function and then computing the partial derivatives of that function with respect to the weights so that it can be **maximized** with **gradient ascent** (i.e., by adding the gradient to update the parameters as opposed to subtracting it).  But it's trivial to use standard gradient descent by treating the negative of the likelihood function as a loss to be minimized."
   ]
  },
  {
   "cell_type": "markdown",
   "id": "f1caabda-f007-47a0-9705-c78eba05d39e",
   "metadata": {},
   "source": [
    "This is a long section with lots of math.  If you want to skip to the end for the punchline, which is the update rule that we'll use for implementing Logistic Regression in section 4.4, that's OK."
   ]
  },
  {
   "cell_type": "markdown",
   "id": "5bd12755-fa92-4af6-aa2b-d74782f63379",
   "metadata": {},
   "source": [
    "### Deriving the Likelihood Function"
   ]
  },
  {
   "cell_type": "markdown",
   "id": "7555d044-b020-4cf5-a27c-debe278d83ea",
   "metadata": {},
   "source": [
    "As usual, we'll assume a training set of $m$ instances $D = \\{({\\bf x_1}, y_1), \\ldots, ({\\bf x_m}, y_m))$ with ${\\bf x_i} \\in \\mathbb{R}^n$.  For LR, as noted above, $y_i \\in \\{0, 1\\}$.  Our goal is to find the **maximum likelihood** weight vector ${\\bf w} \\in \\mathbb{R}^n$:\n",
    "\n",
    "\\begin{eqnarray*}\n",
    "\\underset{{\\bf w}}{\\arg\\max} \\ L(D; {\\bf w}) & = & \\underset{{\\bf w}}{\\arg\\max} \\ p_{\\bf w}(D) \n",
    "\\tag*{Definition of MLE} \\\\\n",
    "& = & \\underset{{\\bf w}}{\\arg\\max} \\ p_{\\bf w}(({\\bf x_1}, y_1), \\ldots, ({\\bf x_m}, y_m)) \n",
    "\\tag*{Expand $D$}\\\\\n",
    "& = & \\underset{{\\bf w}}{\\arg\\max} \\ \\prod_{i} p_{\\bf w}({\\bf x_i}, y_i) \n",
    "\\tag*{Independence} \\\\\n",
    "& = & \\underset{{\\bf w}}{\\arg\\max} \\ \\ln \\left( \\prod_{i} p_{\\bf w}({\\bf x_i}, y_i) \\right)\n",
    "\\tag*{Log is monotonic} \\\\\n",
    "& = & \\underset{{\\bf w}}{\\arg\\max} \\ \\sum_{i} \\ln \\left( p_{\\bf w}({\\bf x_i}, y_i) \\right)\n",
    "\\tag*{Log of product}\n",
    "\\end{eqnarray*}"
   ]
  },
  {
   "cell_type": "markdown",
   "id": "4bc9c57c-188d-43c8-86ad-d94469761b68",
   "metadata": {},
   "source": [
    "We're looking for the weight vector that makes the observed data as likely as possible where that data consists of $m$ training instances.  Because the instances are independent the joint probability of the entire dataset can be rewritten as a product of probabilities of the individual instances.  For example, the fact that someone showed up at the bank yesterday applying for a loan that they will not pay off on time has no causal impact on my financial status (i.e., my ${\\bf x}$) or whether I'll pay my loan off on time (i.e., my $y$)."
   ]
  },
  {
   "cell_type": "markdown",
   "id": "2da1c7be-c7c0-44d8-9385-7dfacd85aea0",
   "metadata": {},
   "source": [
    "This is all leading up to computing derivatives with respect to weights, and derivatives of products are painful.  Taking the log makes that problem go away because the log of a product becomes the sum of the logs of the individual terms.  This new expression is called the **log likelihood**.  Note that the log is always applied to probabilities, numbers between 0 and 1.  The plot below shows what the log looks like in that region applied to some probability $p$.  The log is monotone, as $p$ increases so does $\\ln(p)$, so the ${\\tt argmax}$ applied to a raw probability or the log of that probability will return the same value."
   ]
  },
  {
   "cell_type": "code",
   "execution_count": 6,
   "id": "199e1d62-1a80-410b-942b-772a956078d7",
   "metadata": {},
   "outputs": [
    {
     "data": {
      "image/png": "[encoded data removed]",
      "text/plain": [
       "<Figure size 432x288 with 1 Axes>"
      ]
     },
     "metadata": {
      "needs_background": "light"
     },
     "output_type": "display_data"
    }
   ],
   "source": [
    "plot_ln()"
   ]
  },
  {
   "cell_type": "markdown",
   "id": "df26fe6f-d5ad-4a55-8bfc-fd373d9f62bc",
   "metadata": {},
   "source": [
    "Let's keep working on the last expression above, which seeks the weight vector that maximizes the sum of the log of the probability of all the training instances.  The first step below is to rewrite $\\ln \\left( p_{\\bf w}({\\bf x_i}, y_i) \\right)$ as $\\ln \\left( p_{\\bf w}(y_i|{\\bf x_i}) p_{\\bf w}({\\bf x_i})\\right)$ using the chain rule.  That can be expanded into $\\ln(p_{\\bf w}(y_i|{\\bf x_i})) + \\ln(p_{\\bf w}({\\bf x_i}))$.  "
   ]
  },
  {
   "cell_type": "markdown",
   "id": "3be55929-3815-49da-89d9-add4e6db76fc",
   "metadata": {},
   "source": [
    "The second term is the prior probability of ${\\bf x_i}$, or how probable it is to observe that particular attribute vector.  It could be the case that all attribute vectors are equally likely or, more realistically, it could be the case that some are more probable than others.  Regardless, those probabilities are independent of the weight vector.  Nature doesn't care what Logistic Regression does, she just offers up $(\\bf x, y)$ pairs for it to learn from.  The $\\ln(p_{\\bf w}({\\bf x_i}))$ terms become constants that can be ignored inside the ${\\tt argmax}$."
   ]
  },
  {
   "cell_type": "markdown",
   "id": "ec483be2-f97b-4cab-8481-e79d51dc71e5",
   "metadata": {},
   "source": [
    "That just leaves $\\ln(p_{\\bf w}(y_i|{\\bf x_i}))$, which is the log of the probability that the model assigns to the *correct* class label for the $i^{th}$ instance given the current weight vector.  If $y_i = 1$ that probability is $p_{\\bf w}^1({\\bf x_i})$, and if $y_i = 0$ that probability is $p_{\\bf w}^0({\\bf x_i})$.  That's written below in the last line as an if-then rule."
   ]
  },
  {
   "cell_type": "markdown",
   "id": "fb119fee-c80f-4ed8-8ba5-f02128a59b75",
   "metadata": {},
   "source": [
    "\\begin{eqnarray*}\n",
    "\\underset{{\\bf w}}{\\arg\\max} \\ \\sum_{i} \\ln \\left( p_{\\bf w}({\\bf x_i}, y_i) \\right) & = & \\underset{{\\bf w}}{\\arg\\max} \\ \\sum_{i} \\ln \\left( p_{\\bf w}(y_i|{\\bf x_i}) p_{\\bf w}({\\bf x_i})\\right) \n",
    "\\tag*{Chain rule} \\\\\n",
    "& = & \\underset{{\\bf w}}{\\arg\\max} \\sum_{i} \\ln \\left( p_{\\bf w}(y_i|{\\bf x_i}) \\right) \n",
    "\\tag*{${\\bf x_i}$ independent of ${\\bf w}$}\n",
    "\\\\ \n",
    "& = & \\underset{{\\bf w}}{\\arg\\max} \\sum_{i} \\begin{cases}\n",
    "    \\ln(p_{\\bf w}^1({\\bf x_i}))& \\text{if } y_i = 1\\\\\n",
    "    \\ln(p_{\\bf w}^0({\\bf x_i}))& \\text{if } y_i = 0\\\\\n",
    "\\end{cases}\n",
    "\\end{eqnarray*}"
   ]
  },
  {
   "cell_type": "markdown",
   "id": "4c55ad89-f345-4ec3-a075-9988f435bfd6",
   "metadata": {},
   "source": [
    "The if-then rule in the line above is problematic for the purposes of taking partial derivatives.  A neat way around that is to use the cross-entropy form to turn the rule into an equation that easily admits gradient descent.  That form is shown below:"
   ]
  },
  {
   "cell_type": "markdown",
   "id": "74848872-eafd-470e-b508-712423d3c6c0",
   "metadata": {},
   "source": [
    "$$\n",
    "\\ln(p_{\\bf w}(y_i|{\\bf x_i})) = y_i \\ln(p_{\\bf w}^1({\\bf x_i})) + (1 - y_i)\n",
    "\\ln(1 - p_{\\bf w}^1({\\bf x_i}))\n",
    "$$        "
   ]
  },
  {
   "cell_type": "markdown",
   "id": "5ad13cdf-b43d-4452-97b2-50840da50eb9",
   "metadata": {},
   "source": [
    "If $y_i = 1$ the expression above simplifies as follows:\n",
    "\n",
    "\\begin{eqnarray*}\n",
    "\\ln(p_{\\bf w}(y_i = 1|{\\bf x_i})) & = & 1 * \\ln(p_{\\bf w}^1({\\bf x_i})) + (1 - 1) *\n",
    "\\ln(1 - p_{\\bf w}^1({\\bf x_i})) \\\\\n",
    "& = & \\ln(p_{\\bf w}^1({\\bf x_i})) + 0 * \\ln(1 - p_{\\bf w}^1({\\bf x_i})) \\\\\n",
    "& = & \\ln(p_{\\bf w}^1({\\bf x_i}))\n",
    "\\end{eqnarray*}\n",
    "\n",
    "Similarly, when $y_i = 0$ the expression simplifies to $\\ln(1 - p_{\\bf w}^1({\\bf x_i}))$.  The cross entropy form gives us an equation that is differentiable and behaves exactly like the rule-based form!"
   ]
  },
  {
   "cell_type": "markdown",
   "id": "9efab6f7-32c3-4ff5-be3c-f0359a419f90",
   "metadata": {},
   "source": [
    "We've finally arrived at the function that Logisic Regression will optimize:\n",
    "\n",
    "$$\n",
    "L(D; {\\bf w}) = \\sum_i \\left[y_i \\ln(p_{\\bf w}^1({\\bf x_i})) + (1 - y_i)\n",
    "\\ln(1 - p_{\\bf w}^1({\\bf x_i})) \\right]\n",
    "$$        \n",
    "\n",
    "Because the goal is to maximize the log likelihood we'll use gradient ascent, but it's easy to use gradient descent to minimize the negative log likelihood, i.e., $-L(D; {\\bf w})$."
   ]
  },
  {
   "cell_type": "markdown",
   "id": "103e7ca5-ed50-4e30-b2f7-19eb398764e2",
   "metadata": {},
   "source": [
    "### Maximizing the Likelihood with Gradient Ascent"
   ]
  },
  {
   "cell_type": "markdown",
   "id": "6c8e7be5-ae0a-4378-ab98-1486ad209287",
   "metadata": {},
   "source": [
    "All that's left is to compute the gradient of $L(D; {\\bf w})$, i.e., the partial derivatives with respect to the individual weights.  Recall that the generic weight update rule for gradient descent given learning rate $\\alpha$ and loss function $L$ is:\n",
    "\n",
    "$$\n",
    "{\\bf w} = {\\bf w} - \\alpha \\nabla L\n",
    "$$\n",
    "\n",
    "Iterating between computing $\\nabla L$ and updating the weights minimizes $L$.  All that's required to maximimize $L$ is to make the update additive:\n",
    "\n",
    "$$\n",
    "{\\bf w} = {\\bf w} + \\alpha \\nabla L\n",
    "$$\n",
    "\n",
    "Now we're walking uphill rather than downhill."
   ]
  },
  {
   "cell_type": "markdown",
   "id": "7d18df1b-14c3-4da0-ba1c-9a142dea2ea7",
   "metadata": {},
   "source": [
    "We'll need to remember two facts from differential calculus.  The first is about the derivative of the log function:\n",
    "\n",
    "$$\n",
    "\\frac{d \\ln(x)}{dx} = \\frac{1}{x} dx\n",
    "$$\n",
    "\n",
    "The second is about the derivative of exponentials:\n",
    "\n",
    "$$\n",
    "\\frac{d e^x}{dx} = e^x dx\n",
    "$$\n"
   ]
  },
  {
   "cell_type": "markdown",
   "id": "7cab3596-618a-407e-ae28-09e7f10b58ca",
   "metadata": {},
   "source": [
    "Let's start taking the derivative of the log likelihood with respect to an arbitrary weight $w_j$:\n",
    "\n",
    "\\begin{eqnarray*}\n",
    "\\frac{\\partial}{\\partial w_j} L(D; {\\bf w}) & = & \\frac{\\partial}{\\partial w_j} \\sum_i \\left[ y_i \\ln(p_{\\bf w}^1({\\bf x_i})) + (1 - y_i)\n",
    "\\ln(1 - p_{\\bf w}^1({\\bf x_i})) \\right] \\\\[0.25cm]\n",
    "& = & \\sum_i \\left[ \\frac{y_i}{p_{\\bf w}^1({\\bf x_i})} \\frac{\\partial}{\\partial w_j} p_{\\bf w}^1({\\bf x_i}) + \\frac{(1 - y_i)}{(1 - p_{\\bf w}^1({\\bf x_i}))} \n",
    "\\frac{\\partial}{\\partial w_j} (1 - p_{\\bf w}^1({\\bf x_i})) \\right] \\\\[0.25cm]\n",
    "& = & \\sum_i \\left[ \\frac{y_i}{p_{\\bf w}^1({\\bf x_i})} \\frac{\\partial}{\\partial w_j} p_{\\bf w}^1({\\bf x_i}) - \\frac{(1 - y_i)}{(1 - p_{\\bf w}^1({\\bf x_i}))} \n",
    "\\frac{\\partial}{\\partial w_j} p_{\\bf w}^1({\\bf x_i}) \\right] \\\\[0.25cm]\n",
    "& = & \\sum_i \\left[ \\frac{y_i}{p_{\\bf w}^1({\\bf x_i})} - \\frac{(1 - y_i)}{(1 - p_{\\bf w}^1({\\bf x_i}))} \n",
    "\\right] \\frac{\\partial}{\\partial w_j} p_{\\bf w}^1({\\bf x_i}) \\\\[0.25cm]\n",
    "& = & \\sum_i \\left[ \\frac{y_i (1 - p_{\\bf w}^1({\\bf x_i})) - (1 - y_i) p_{\\bf w}^1({\\bf x_i})}{p_{\\bf w}^1({\\bf x_i}) (1 - p_{\\bf w}^1({\\bf x_i})} \n",
    "\\right] \\frac{\\partial}{\\partial w_j} p_{\\bf w}^1({\\bf x_i}) \\\\[0.25cm]\n",
    "& = & \\sum_i \\left[ \\frac{y_i - p_{\\bf w}^1({\\bf x_i})}{p_{\\bf w}^1({\\bf x_i}) (1 - p_{\\bf w}^1({\\bf x_i})} \n",
    "\\right] \\frac{\\partial}{\\partial w_j} p_{\\bf w}^1({\\bf x_i}) \\\\[0.25cm]\n",
    "\\end{eqnarray*}\n"
   ]
  },
  {
   "cell_type": "markdown",
   "id": "57a399cb-ae75-40b4-8977-f601c91e4200",
   "metadata": {},
   "source": [
    "Now we're ready to compute the partial derivative of $p_{\\bf w}^1({\\bf x_i})$ with respect to weight $w_j$.  Below, $x_{i,j}$ denotes the $j^{th}$ element of the $i^{th}$ instance's attribute vector.  That element is multiplied by $w_j$ when computing ${\\bf w} \\cdot {\\bf x}$."
   ]
  },
  {
   "cell_type": "markdown",
   "id": "2b17132f-3ea4-4bad-98fa-ac2082a839fd",
   "metadata": {},
   "source": [
    "\\begin{eqnarray*}\n",
    "\\frac{\\partial}{\\partial w_j} p_{\\bf w}^1({\\bf x_i}) & = &\n",
    "\\frac{\\partial}{\\partial w_j} \\frac{1}{1 + e^{-{\\bf w} \\cdot {\\bf x_i}}} \\\\[0.2cm]\n",
    "& = & - \\frac{1}{({1 + e^{-{\\bf w} \\cdot {\\bf x_i}}})^2} \\frac{\\partial}{\\partial w_j}\n",
    "e^{-{\\bf w} \\cdot {\\bf x}} \\\\[0.2cm]\n",
    "& = & - \\frac{1}{({1 + e^{-{\\bf w} \\cdot {\\bf x_i}}})^2} \n",
    "e^{-{\\bf w} \\cdot {\\bf x_i}} \\frac{\\partial}{\\partial w_j} (-{\\bf w} \\cdot {\\bf x_i}) \\\\[0.2cm]\n",
    "& = & \\frac{e^{-{\\bf w} \\cdot {\\bf x_i}}}{({1 + e^{-{\\bf w} \\cdot {\\bf x_i}}})^2} \\ x_{i,j} \\\\[0.2cm]\n",
    "& = & \\frac{1}{({1 + e^{-{\\bf w} \\cdot {\\bf x_i}}})}\n",
    "\\frac{e^{-{\\bf w} \\cdot {\\bf x_i}}}{({1 + e^{-{\\bf w} \\cdot {\\bf x_i}}})}\n",
    "\\ x_{i,j} \\\\[0.2cm]\n",
    "& = & p_{\\bf w}^1({\\bf x_i}) (1 - p_{\\bf w}^1({\\bf x_i})) \\ x_{i,j} \n",
    "\\end{eqnarray*}"
   ]
  },
  {
   "cell_type": "markdown",
   "id": "fe252b4f-5eec-45b3-8972-af9dd3e7905d",
   "metadata": {},
   "source": [
    "The final step is to replace the partial derivative of $p_{\\bf w}^1({\\bf x_i})$ with respect to $w_j$ in the expression below and simplify:"
   ]
  },
  {
   "cell_type": "markdown",
   "id": "9955fde5-0db5-47c5-8971-577da5bed26b",
   "metadata": {},
   "source": [
    "\\begin{eqnarray*}\n",
    "\\frac{\\partial}{\\partial w_j} L(D; {\\bf w}) & = & \n",
    "\\sum_i \\left[ \\frac{y_i - p_{\\bf w}^1({\\bf x_i})}{p_{\\bf w}^1({\\bf x_i}) (1 - p_{\\bf w}^1({\\bf x_i})} \n",
    "\\right] \\frac{\\partial}{\\partial w_j} p_{\\bf w}^1({\\bf x_i}) \\\\[0.25cm]\n",
    "& = & \\sum_i \\left[ \\frac{y_i - p_{\\bf w}^1({\\bf x_i})}{p_{\\bf w}^1({\\bf x_i}) (1 - p_{\\bf w}^1({\\bf x_i})} \\right] p_{\\bf w}^1({\\bf x_i}) (1 - p_{\\bf w}^1({\\bf x_i})) \\ x_{i,j} \\\\[0.25cm]\n",
    "& = & \\sum_i (y_i - p_{\\bf w}^1({\\bf x_i})) x_{i,j}\n",
    "\\end{eqnarray*}\n"
   ]
  },
  {
   "cell_type": "markdown",
   "id": "a1f5a086-7315-4fd0-8dbc-0fe48b673770",
   "metadata": {},
   "source": [
    "That was a lot of work to wind up with such a simple expression! But now that we've got it let's see why it makes intuitive sense by considering how it is used in practice."
   ]
  },
  {
   "cell_type": "markdown",
   "id": "4a004868-8238-4d42-b51c-76c725134469",
   "metadata": {},
   "source": [
    "### Intuition Behind the Update Rule for Logistic Regression"
   ]
  },
  {
   "cell_type": "markdown",
   "id": "c507d8f0-9472-4c62-a444-3677cbb4bc33",
   "metadata": {},
   "source": [
    "Recall that gradient ascent for Logistic Regression involves iterating between computing the gradient of the log likelihood and taking a step in the direction of the gradient.\n",
    "\n",
    "$$\n",
    "{\\bf w} = {\\bf w} + \\alpha \\nabla L(D; {\\bf w})\n",
    "$$\n"
   ]
  },
  {
   "cell_type": "markdown",
   "id": "6cda009d-400a-4c3e-a229-d2ec1ecd58e9",
   "metadata": {},
   "source": [
    "Let's focus on a single instance $({\\bf x_i}, y_i)$ and a single weight $w_j$, for which the update is shown below."
   ]
  },
  {
   "cell_type": "markdown",
   "id": "23ef8b69-dba3-415d-aef4-44b8aafc3958",
   "metadata": {},
   "source": [
    "$$\n",
    "w_j = w_j + \\alpha (y_i - p_{\\bf w}^1({\\bf x_i})) x_{i,j}\n",
    "$$"
   ]
  },
  {
   "cell_type": "markdown",
   "id": "361fdeeb-cce1-41a2-9e1f-2fd5cbc93adb",
   "metadata": {},
   "source": [
    "The new value of $w_j$ is the old value plus (because we're doing gradient ascent) a fraction $\\alpha$ of the $j^{th}$ term in the gradient of the log likelihood.  Let's consider a couple of cases."
   ]
  },
  {
   "cell_type": "markdown",
   "id": "c2481bb1-34ea-40ee-925a-2ada2cb23d4e",
   "metadata": {},
   "source": [
    "**Case 1:** $y_i = 1$ and $x_{i,j} > 0$\n",
    "\n",
    "If $y_i = 1$ and $x_{i,j} > 0$, we want $w_j$ to increase.  Why?  Because we want ${\\bf w} \\cdot {\\bf x_i}$ to be as large as possible so we move to the right on the plot of the sigmoid above and $p_{\\bf w}^1({\\bf x_i})$ gets closer to 1, assigning a higher probability than before the update to the correct class label.\n",
    "\n",
    "If $y_i = 1 $ then $y_i - p_{\\bf w}^1({\\bf x_i}) > 0$ (note that $p_1$ only approaches 1 asymptotically).  Also, in this case $x_{i,j} > 0$ so $(y_i - p_{\\bf w}^1({\\bf x_i})) x_{i,j} > 0$.  That means that after the update $w_j$ will increase, which is precisely what we need."
   ]
  },
  {
   "cell_type": "markdown",
   "id": "60e18326-ae1f-4c3d-87bc-8348528ab618",
   "metadata": {},
   "source": [
    "**Case 2:** $y_i = 1$ and $x_{i,j} < 0$\n",
    "\n",
    "What needs to happen to $w_j$ in this case?  We still want ${\\bf w} \\cdot {\\bf x_i}$ to be a big positive number because $y_i = 1$.  The way to make that happen is to multiply $x_{i,j}$, which is negative, by a weight that is also negative.  The smaller (more negative) the value of $w_j$ the larger the value of $w_j x_{i,j}$ and the closer $p_{\\bf w}^1({\\bf x_i})$ is to 1.\n",
    "\n",
    "Because $y_i - p_{\\bf w}^1({\\bf x_i}) > 0$ and  $x_{i,j} < 0$ it is the case that $(y_i - p_{\\bf w}^1({\\bf x_i})) x_{i,j} < 0$.  That means that after the update $w_j$ will decrease, which is precisely what we need."
   ]
  },
  {
   "cell_type": "markdown",
   "id": "653bd078-86d6-43e7-9a83-2c8e64908b2a",
   "metadata": {},
   "source": [
    "A similar analysis when $y_i = 0$ leads to the same conclusion.  In that case $y_i - p_{\\bf w}^1({\\bf x_i}) < 0$, but regardless of the sign of $x_{i,j}$ the update moves the weight in the right direction, making $p_{\\bf w}^1({\\bf x_i}))$ closer to 0 and thus $p_{\\bf w}^0({\\bf x_i}))$ closer to 1."
   ]
  },
  {
   "cell_type": "markdown",
   "id": "0ccaa6c2-46cd-4512-874d-ab2160049c4d",
   "metadata": {},
   "source": [
    "Now that we've got the gradient in hand, we can turn to the learning algorithm implementation, which is the topic of the next section."
   ]
  },
  {
   "cell_type": "code",
   "execution_count": null,
   "id": "a2f68add-3671-456d-81b4-81ebe0631d37",
   "metadata": {},
   "outputs": [],
   "source": []
  }
 ],
 "metadata": {
  "kernelspec": {
   "display_name": "Python 3",
   "language": "python",
   "name": "python3"
  },
  "language_info": {
   "codemirror_mode": {
    "name": "ipython",
    "version": 3
   },
   "file_extension": ".py",
   "mimetype": "text/x-python",
   "name": "python",
   "nbconvert_exporter": "python",
   "pygments_lexer": "ipython3",
   "version": "3.8.8"
  }
 },
 "nbformat": 4,
 "nbformat_minor": 5
}
