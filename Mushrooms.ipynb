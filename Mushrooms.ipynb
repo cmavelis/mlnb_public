{
 "cells": [
  {
   "cell_type": "code",
   "execution_count": 1,
   "metadata": {},
   "outputs": [],
   "source": [
    "import random\n",
    "import matplotlib.image as mpimg\n",
    "import matplotlib.pyplot as plt\n",
    "import numpy as np\n",
    "import math\n",
    "import time\n",
    "from IPython.display import display, Markdown\n",
    "%run Plot\\ Utilities.ipynb\n",
    "%matplotlib inline"
   ]
  },
  {
   "cell_type": "code",
   "execution_count": 2,
   "metadata": {},
   "outputs": [],
   "source": [
    "def sample_mushroom(edible = 0.5):\n",
    "    label = 'edible' if random.random() < edible else 'poisonous'\n",
    "    height = random.uniform(0.25, 0.5) if label == 'poisonous' else random.uniform(0.75, 1.0)\n",
    "    width = random.uniform(0.25, 0.5) if label == 'edible' else random.uniform(0.75, 1.0)\n",
    "    color = random.uniform(-0.5, 0.5)\n",
    "    \n",
    "    return {'label':label, 'height':height, 'width':width, 'color':color}"
   ]
  },
  {
   "cell_type": "code",
   "execution_count": 3,
   "metadata": {},
   "outputs": [],
   "source": [
    "def show_mushrooms(D, cols, label = True):\n",
    "    img = mpimg.imread('mushroom.png')\n",
    "    red = (img[:,:,0] > img[:,:,1] + 0.1) * 1\n",
    "    img = np.mean(img, axis = 2)\n",
    "    \n",
    "    rows = math.ceil(len(D) / cols)\n",
    "    fig, axes = plt.subplots(rows, cols, sharex = False, sharey = False, figsize=(2 * cols, 2 * rows))\n",
    "    axes = axes.flatten().tolist()\n",
    "    \n",
    "    for axis in axes:\n",
    "        axis.set_xticks([])\n",
    "        axis.set_yticks([])\n",
    "        axis.axis('off')\n",
    "\n",
    "    for idx, mushroom in enumerate(D):\n",
    "        i = np.copy(img)\n",
    "        i = i + mushroom['color'] * red\n",
    "        \n",
    "        axis = axes[idx]\n",
    "        if label:\n",
    "            axis.set_title(mushroom['label'])\n",
    "        w = 100 * (1 - mushroom['height']) / 2\n",
    "        h = 100 * (1 - mushroom['width']) / 2\n",
    "        \n",
    "        extent = (h, 100 - h, 100 - w, w)\n",
    "                \n",
    "        axis.imshow(i, cmap = 'gray', vmin = 0, vmax = 1, extent = extent)\n",
    "        \n",
    "    plt.show()"
   ]
  },
  {
   "cell_type": "code",
   "execution_count": 1,
   "metadata": {},
   "outputs": [],
   "source": [
    "def plot_mushroom_features(df, features, split = None):\n",
    "    if isinstance(features, str):\n",
    "        features = [features]\n",
    "        \n",
    "    plt.figure(figsize=(6, 0.5 if len(features) == 1 else 6))\n",
    "    \n",
    "    for label in ['poisonous', 'edible']:\n",
    "        x = df[df['label'] == label][features[0]]\n",
    "        plt.xlabel(features[0])\n",
    "        if len(features) == 1:\n",
    "            y = [0] * len(x)\n",
    "            plt.ylabel('')\n",
    "        else:\n",
    "            y = df[df['label'] == label][features[1]]\n",
    "            plt.ylabel(features[1])\n",
    "        color = (COLOR_PALETTE[0] if label == 'edible' else COLOR_PALETTE[1])\n",
    "        shape = (SHAPE_PALETTE[0] if label == 'edible' else SHAPE_PALETTE[1])\n",
    "        plt.scatter(x, y, color = color, marker = shape)\n",
    "\n",
    "    if len(features) == 1:\n",
    "        plt.yticks([])\n",
    "        \n",
    "    if split:\n",
    "        plt.axvline(split, color = 'black')\n",
    "    \n",
    "    plt.show()\n"
   ]
  },
  {
   "cell_type": "code",
   "execution_count": 6,
   "metadata": {
    "collapsed": true
   },
   "outputs": [],
   "source": [
    "def generate_and_test_mushroom_rules(df):\n",
    "    for feature in ['color', 'width', 'height']:\n",
    "        df.sort_values(by = [feature], inplace = True)\n",
    "        for idx in range(len(df) - 1):\n",
    "            split = (df.iloc[idx][feature] + df.iloc[idx + 1][feature]) / 2\n",
    "            x = df[feature] - split\n",
    "            y = list(-1 if label == 'edible' else 1 for label in df['label'])\n",
    "            accuracy = 100 * sum(x * y > 0 for x, y in zip(x, y)) / len(df)\n",
    "            compare = '<'\n",
    "            if accuracy < 50:\n",
    "                compare = '>'\n",
    "                accuracy = 100 - accuracy\n",
    "            plot_mushroom_features(df, feature, split)\n",
    "            print('IF %s %s %.2f THEN\\n\\tlabel = edible\\nELSE\\n\\tlabel = poisonous' % (feature, compare, split))\n",
    "            print('Training set accuracy = %.2f' % accuracy)\n",
    "            display(Markdown('<hr style=\"height:3px;color:black;\" />'))"
   ]
  },
  {
   "cell_type": "code",
   "execution_count": null,
   "metadata": {},
   "outputs": [],
   "source": []
  },
  {
   "cell_type": "code",
   "execution_count": null,
   "metadata": {
    "collapsed": true
   },
   "outputs": [],
   "source": []
  }
 ],
 "metadata": {
  "anaconda-cloud": {},
  "kernelspec": {
   "display_name": "Python [conda env:anaconda3]",
   "language": "python",
   "name": "conda-env-anaconda3-py"
  },
  "language_info": {
   "codemirror_mode": {
    "name": "ipython",
    "version": 3
   },
   "file_extension": ".py",
   "mimetype": "text/x-python",
   "name": "python",
   "nbconvert_exporter": "python",
   "pygments_lexer": "ipython3",
   "version": "3.5.6"
  }
 },
 "nbformat": 4,
 "nbformat_minor": 1
}
