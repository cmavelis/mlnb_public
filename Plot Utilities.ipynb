{
 "cells": [
  {
   "cell_type": "code",
   "execution_count": 6,
   "metadata": {},
   "outputs": [],
   "source": [
    "import matplotlib.pyplot as plt\n",
    "import numpy as np\n",
    "import pandas as pd"
   ]
  },
  {
   "cell_type": "code",
   "execution_count": 7,
   "metadata": {},
   "outputs": [],
   "source": [
    "# Colors and shapes used to plot points belonging to different classes\n",
    "COLOR_PALETTE = ['red', 'green', 'blue', 'cyan']\n",
    "SHAPE_PALETTE = ['o', 'P', '*', 's']"
   ]
  },
  {
   "cell_type": "code",
   "execution_count": 8,
   "metadata": {},
   "outputs": [],
   "source": [
    "#\n",
    "# Plots a line of the form y = mx + b over the domain (x limits) of \n",
    "# the current axes\n",
    "#\n",
    "def mbline(m, b, color = 'black'):\n",
    "    axes = plt.gca()\n",
    "    x = np.array(axes.get_xlim())\n",
    "    y = m * x + b\n",
    "    plt.plot(x, y, color = color)"
   ]
  },
  {
   "cell_type": "code",
   "execution_count": 9,
   "metadata": {},
   "outputs": [],
   "source": [
    "#\n",
    "# Convert a weight vector of the form [w1, w2] or [w0, w1, w2]\n",
    "# to slope/intercept form.  In the former case it is assumed that w0 = 0.\n",
    "#\n",
    "def weight_to_mb(w):\n",
    "    assert len(w) in [2, 3], 'Weight vector must have length 2 or 3'\n",
    "    w = w[:]\n",
    "    if len(w) == 2:\n",
    "        w = [0] + w\n",
    "    w = [val or 0.0001 for val in w]  # Prevent infinite and zero slope\n",
    "    return -w[1]/w[2], -w[0]/w[2]"
   ]
  },
  {
   "cell_type": "code",
   "execution_count": 21,
   "metadata": {},
   "outputs": [],
   "source": [
    "#\n",
    "# Plot points in 2D space\n",
    "#\n",
    "# Arguments:\n",
    "#\n",
    "#   df (DataFrame) - dataset to plot\n",
    "#   label (str) - name of column in df that contains class label\n",
    "#   colors (list) - names of colors to use for different classes' points\n",
    "#   shapes (list) - names of shapes to use for different classes' points\n",
    "#   weights (list or dict) - A dictionary of class/weight pairs or a list\n",
    "#                            of weights in the binary case\n",
    "#   show_weight_vector (bool) - Plot weight vector(s) if true\n",
    "#   show_separator (bool) - Plot linear separator(s) if true\n",
    "#\n",
    "def plot_2d(df, label = 'y', colors = COLOR_PALETTE, \n",
    "            shapes = SHAPE_PALETTE, weights = None, \n",
    "            show_weight_vector = False, show_separator = False,\n",
    "            pad = None):\n",
    "        \n",
    "    plt.figure(figsize = (4, 4))\n",
    "    plt.axes().set_aspect('equal', 'box')\n",
    "\n",
    "    features = list(df.columns)\n",
    "    features.remove(label)\n",
    "    \n",
    "    plt.xlabel(features[0])\n",
    "    plt.ylabel(features[1])\n",
    "    \n",
    "    # Scatter plot points using distinctive shapes and colors\n",
    "    for y, color, shape in zip(sorted(df[label].unique()), colors, shapes):\n",
    "        x1 = df[df[label] == y][features[0]]\n",
    "        x2 = df[df[label] == y][features[1]]\n",
    "        plt.scatter(x1, x2, color = color, marker = shape)\n",
    "    \n",
    "    if weights is not None:\n",
    "        xlim = plt.xlim()\n",
    "        ylim = plt.ylim()\n",
    "\n",
    "        if type(weights) == dict:\n",
    "            weights = [weights[c] for c in sorted(df[label].unique())]\n",
    "        else:\n",
    "            weights = [list(weights)]\n",
    "        for idx, w in enumerate(weights):\n",
    "            if show_separator:\n",
    "                m, b = weight_to_mb(w)\n",
    "                mbline(m, b, color = (colors[idx] if len(weights) > 2 else 'black'))\n",
    "            if show_weight_vector:\n",
    "                plt.quiver([0], [0], [w[-2]], [w[-1]], \n",
    "                           angles = 'xy', scale_units='xy', scale=1.)\n",
    "                \n",
    "        plt.xlim(xlim)\n",
    "        plt.ylim(ylim)\n",
    "    \n",
    "    if pad:\n",
    "        lim = plt.xlim()\n",
    "        rng = lim[1] - lim[0]\n",
    "        plt.xlim(lim[0] - pad * rng, lim[1] + pad * rng)\n",
    "        lim = plt.ylim()\n",
    "        rng = lim[1] - lim[0]\n",
    "        plt.ylim(lim[0] - pad * rng, lim[1] + pad * rng)"
   ]
  },
  {
   "cell_type": "code",
   "execution_count": null,
   "metadata": {},
   "outputs": [],
   "source": []
  }
 ],
 "metadata": {
  "anaconda-cloud": {},
  "kernelspec": {
   "display_name": "Python 3",
   "language": "python",
   "name": "python3"
  },
  "language_info": {
   "codemirror_mode": {
    "name": "ipython",
    "version": 3
   },
   "file_extension": ".py",
   "mimetype": "text/x-python",
   "name": "python",
   "nbconvert_exporter": "python",
   "pygments_lexer": "ipython3",
   "version": "3.8.8"
  }
 },
 "nbformat": 4,
 "nbformat_minor": 1
}
