{
 "cells": [
  {
   "cell_type": "code",
   "execution_count": 2,
   "metadata": {},
   "outputs": [],
   "source": [
    "import matplotlib.pyplot as plt\n",
    "import numpy as np\n",
    "import pandas as pd"
   ]
  },
  {
   "cell_type": "code",
   "execution_count": 3,
   "metadata": {},
   "outputs": [],
   "source": [
    "COLOR_PALETTE = ['red', 'green', 'blue', 'cyan']\n",
    "SHAPE_PALETTE = ['o', 'P', '*', 's']"
   ]
  },
  {
   "cell_type": "code",
   "execution_count": 4,
   "metadata": {},
   "outputs": [],
   "source": [
    "def mbline(m, b, color = 'black'):\n",
    "    axes = plt.gca()\n",
    "    x = np.array(axes.get_xlim())\n",
    "    y = m * x + b\n",
    "    plt.plot(x, y, color = color)"
   ]
  },
  {
   "cell_type": "code",
   "execution_count": 5,
   "metadata": {},
   "outputs": [],
   "source": [
    "def weight_to_mb(w):\n",
    "    if len(w) == 2:\n",
    "        d = w[1] or 0.001\n",
    "        return -w[0]/d, 0\n",
    "    else:\n",
    "        d = w[2] or 0.001\n",
    "        return -w[1]/d, -w[0]/d"
   ]
  },
  {
   "cell_type": "code",
   "execution_count": 6,
   "metadata": {},
   "outputs": [],
   "source": [
    "def plot_binary_2d(df, label = 'y', colors = ('red', 'green'), \n",
    "                   weights = None, \n",
    "                   show_weight_vector = False, \n",
    "                   show_separator = False):\n",
    "        \n",
    "    plt.figure(figsize = (4, 4))\n",
    "    plt.axes().set_aspect('equal', 'box')\n",
    "\n",
    "    features = list(df.columns)\n",
    "    features.remove(label)\n",
    "    \n",
    "    plt.xlabel(features[0])\n",
    "    plt.ylabel(features[1])\n",
    "    \n",
    "    for y, color in zip(sorted(df[label].unique()), colors):\n",
    "        x1 = df[df[label] == y][features[0]]\n",
    "        x2 = df[df[label] == y][features[1]]\n",
    "        plt.scatter(x1, x2, color = color)\n",
    "          \n",
    "    if weights:\n",
    "        if show_separator:\n",
    "            m, b = weight_to_mb(weights)\n",
    "            mbline(m, b)\n",
    "        if show_weight_vector:\n",
    "            plt.quiver([0], [0], [weights[-2]], [weights[-1]], \n",
    "                       angles = 'xy', scale_units='xy', scale=1.)\n",
    "        "
   ]
  },
  {
   "cell_type": "code",
   "execution_count": 9,
   "metadata": {},
   "outputs": [],
   "source": [
    "def plot_2d(df, label = 'y', colors = COLOR_PALETTE, \n",
    "            shapes = SHAPE_PALETTE, weights = None, \n",
    "            show_weight_vector = False, show_separator = False):\n",
    "        \n",
    "    plt.figure(figsize = (4, 4))\n",
    "    plt.axes().set_aspect('equal', 'box')\n",
    "\n",
    "    features = list(df.columns)\n",
    "    features.remove(label)\n",
    "    \n",
    "    plt.xlabel(features[0])\n",
    "    plt.ylabel(features[1])\n",
    "    \n",
    "    for y, color, shape in zip(sorted(df[label].unique()), colors, shapes):\n",
    "        x1 = df[df[label] == y][features[0]]\n",
    "        x2 = df[df[label] == y][features[1]]\n",
    "        plt.scatter(x1, x2, color = color, marker = shape)\n",
    "    \n",
    "    if weights is not None:\n",
    "        xlim = plt.xlim()\n",
    "        ylim = plt.ylim()\n",
    "\n",
    "        if type(weights) == dict:\n",
    "            weights = [weights[c] for c in sorted(df[label].unique())]\n",
    "        else:\n",
    "            weights = [list(weights)]\n",
    "        for idx, w in enumerate(weights):\n",
    "            if show_separator:\n",
    "                m, b = weight_to_mb(w)\n",
    "                mbline(m, b, color = colors[idx])\n",
    "            if show_weight_vector:\n",
    "                plt.quiver([0], [0], [w[-2]], [w[-1]], \n",
    "                           angles = 'xy', scale_units='xy', scale=1.)\n",
    "                \n",
    "        plt.xlim(xlim)\n",
    "        plt.ylim(ylim)"
   ]
  },
  {
   "cell_type": "code",
   "execution_count": null,
   "metadata": {},
   "outputs": [],
   "source": []
  },
  {
   "cell_type": "code",
   "execution_count": null,
   "metadata": {},
   "outputs": [],
   "source": []
  }
 ],
 "metadata": {
  "anaconda-cloud": {},
  "kernelspec": {
   "display_name": "Python [conda env:anaconda3]",
   "language": "python",
   "name": "conda-env-anaconda3-py"
  },
  "language_info": {
   "codemirror_mode": {
    "name": "ipython",
    "version": 3
   },
   "file_extension": ".py",
   "mimetype": "text/x-python",
   "name": "python",
   "nbconvert_exporter": "python",
   "pygments_lexer": "ipython3",
   "version": "3.5.6"
  }
 },
 "nbformat": 4,
 "nbformat_minor": 1
}
