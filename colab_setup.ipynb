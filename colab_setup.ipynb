import sys
if 'google.colab' in sys.modules:
    !git clone https://github.com/jtooates/mlnb_public.git &> /dev/null
    !mv mlnb_public/* . &> /dev/null
    !pip install "pandas>=1.5.2, <2.0"
