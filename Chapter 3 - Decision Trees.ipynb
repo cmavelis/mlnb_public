{
 "cells": [
  {
   "cell_type": "code",
   "execution_count": 7,
   "metadata": {},
   "outputs": [],
   "source": [
    "import pandas as pd\n",
    "from math import log\n",
    "import graphviz\n",
    "%run Datasets.ipynb"
   ]
  },
  {
   "cell_type": "markdown",
   "metadata": {},
   "source": [
    "Like many things that people do, the field of machine learning has cycles of fashion.  Ideas and algorithms rise and fall in popularity, with some making repeated appearances through time.  Decision trees had their heyday in the 1990's, with innumerable papers appearing in machine learning conferences exploring applications and algorithmic enhancements.  Though they eventually gave way to the next hot topic, decision trees remain a workhorse algorithm.  There are many reasons for that.  \n",
    "* It's easy for people to understand decision trees, both the representation and the learning algorithm.  That is often crucial in real-world applications where domain experts are reluctant to trust models that are essentially black boxes.\n",
    "* A decision tree variant known as a random forest (yes, it's a collection of trees) is remarkably powerful.  In many brainstorming sessions about difficult real-world classification problems, at some point someone invariably asks \"have you tried a random forest?\" and everyone else says \"yeah, you should try a random forest.\"\n",
    "* Decision trees work well with both numeric and discrete feature values, and solve binary and multi-class problems in the same framework.  In contrast, the Perceptron requires all features to be numeric to compute dot products, and the binary and multi-class Perceptron are similar but not the same.\n",
    "* Decision trees make explicit choices about which features to use.  They can, and often do, leave features out of the final model.  That makes them robust against irrelevant features, like the day of the week on which I picked a mushroom when trying to predict whether the mushroom is poisonous or edible.\n",
    "\n",
    "This chapter explores decision trees: what are they and how are they learned from data?  Along the way we'll touch on some fundamental issues in machine learning.  For example, the Perceptron runs until it perfectly classifies the training data (or hits the limit on the number of epochs).  It is often the case, perhaps counterintuitively at first, that maximizing accuracy on the training data can hurt generalization, or the ability to accurately classify new data.  Decision trees are particularly good for exploring that issue."
   ]
  },
  {
   "cell_type": "markdown",
   "metadata": {},
   "source": [
    "We'll make extensive use of the LED dataset in this chapter.<sup>1</sup>  That dataset has ten classes, one for each of the digits from 0 to 9, and seven features, one for each segment in a standard LED display like the one on your alarm clock.  The cell below shows a visual representation of an instance of each class when there is no noise in the features.  Later in this chapter we'll add feature noise by randomly flipping the state of segments (from off to on and from on to off) to make the learning problem more difficult.  We'll also add irrelevant features that carry no information about the class label to see what impact they have."
   ]
  },
  {
   "cell_type": "code",
   "execution_count": 8,
   "metadata": {},
   "outputs": [
    {
     "data": {
      "image/png": "[encoded data removed]",
      "text/plain": [
       "<Figure size 1080x432 with 10 Axes>"
      ]
     },
     "metadata": {},
     "output_type": "display_data"
    }
   ],
   "source": [
    "D = led_dataset(samples = 1, noise = 0.0)\n",
    "plot_led(D, cols = 5)"
   ]
  },
  {
   "cell_type": "markdown",
   "metadata": {},
   "source": [
    "The cell below shows the feature-based representation of the same data.  The seven segments are named as follows.  There are three horizontal segments - ${\\tt top}$, ${\\tt middle}$, and ${\\tt bottom}$.  There are two vertical segments on the left side (${\\tt top\\_left}$ and ${\\tt bottom\\_left}$) and two vertical segments on the right side (${\\tt top\\_right}$ and ${\\tt bottom\\_right}$).  A segment is visible if it's value is ${\\tt on}$ and is not visible if it's value is ${\\tt off}$.  A noise-free class ${\\tt 1}$ instance has ${\\tt top\\_right} = {\\tt on}$ and  ${\\tt bottom\\_right} ={\\tt on}$, with all other features having value ${\\tt off}$.  A noise-free class ${\\tt 4}$ instance is like a class ${\\tt 1}$ instance except it also has ${\\tt top\\_left} = {\\tt on}$ and ${\\tt middle} = {\\tt on}$."
   ]
  },
  {
   "cell_type": "code",
   "execution_count": 9,
   "metadata": {},
   "outputs": [
    {
     "data": {
      "text/html": [
       "<div>\n",
       "<style scoped>\n",
       "    .dataframe tbody tr th:only-of-type {\n",
       "        vertical-align: middle;\n",
       "    }\n",
       "\n",
       "    .dataframe tbody tr th {\n",
       "        vertical-align: top;\n",
       "    }\n",
       "\n",
       "    .dataframe thead th {\n",
       "        text-align: right;\n",
       "    }\n",
       "</style>\n",
       "<table border=\"1\" class=\"dataframe\">\n",
       "  <thead>\n",
       "    <tr style=\"text-align: right;\">\n",
       "      <th></th>\n",
       "      <th>bottom</th>\n",
       "      <th>bottom_left</th>\n",
       "      <th>bottom_right</th>\n",
       "      <th>middle</th>\n",
       "      <th>top</th>\n",
       "      <th>top_left</th>\n",
       "      <th>top_right</th>\n",
       "      <th>y</th>\n",
       "    </tr>\n",
       "  </thead>\n",
       "  <tbody>\n",
       "    <tr>\n",
       "      <th>0</th>\n",
       "      <td>on</td>\n",
       "      <td>on</td>\n",
       "      <td>on</td>\n",
       "      <td>off</td>\n",
       "      <td>on</td>\n",
       "      <td>on</td>\n",
       "      <td>on</td>\n",
       "      <td>0</td>\n",
       "    </tr>\n",
       "    <tr>\n",
       "      <th>1</th>\n",
       "      <td>off</td>\n",
       "      <td>off</td>\n",
       "      <td>on</td>\n",
       "      <td>off</td>\n",
       "      <td>off</td>\n",
       "      <td>off</td>\n",
       "      <td>on</td>\n",
       "      <td>1</td>\n",
       "    </tr>\n",
       "    <tr>\n",
       "      <th>2</th>\n",
       "      <td>on</td>\n",
       "      <td>on</td>\n",
       "      <td>off</td>\n",
       "      <td>on</td>\n",
       "      <td>on</td>\n",
       "      <td>off</td>\n",
       "      <td>on</td>\n",
       "      <td>2</td>\n",
       "    </tr>\n",
       "    <tr>\n",
       "      <th>3</th>\n",
       "      <td>on</td>\n",
       "      <td>off</td>\n",
       "      <td>on</td>\n",
       "      <td>on</td>\n",
       "      <td>on</td>\n",
       "      <td>off</td>\n",
       "      <td>on</td>\n",
       "      <td>3</td>\n",
       "    </tr>\n",
       "    <tr>\n",
       "      <th>4</th>\n",
       "      <td>off</td>\n",
       "      <td>off</td>\n",
       "      <td>on</td>\n",
       "      <td>on</td>\n",
       "      <td>off</td>\n",
       "      <td>on</td>\n",
       "      <td>on</td>\n",
       "      <td>4</td>\n",
       "    </tr>\n",
       "    <tr>\n",
       "      <th>5</th>\n",
       "      <td>on</td>\n",
       "      <td>off</td>\n",
       "      <td>on</td>\n",
       "      <td>on</td>\n",
       "      <td>on</td>\n",
       "      <td>on</td>\n",
       "      <td>off</td>\n",
       "      <td>5</td>\n",
       "    </tr>\n",
       "    <tr>\n",
       "      <th>6</th>\n",
       "      <td>on</td>\n",
       "      <td>on</td>\n",
       "      <td>on</td>\n",
       "      <td>on</td>\n",
       "      <td>on</td>\n",
       "      <td>on</td>\n",
       "      <td>off</td>\n",
       "      <td>6</td>\n",
       "    </tr>\n",
       "    <tr>\n",
       "      <th>7</th>\n",
       "      <td>off</td>\n",
       "      <td>off</td>\n",
       "      <td>on</td>\n",
       "      <td>off</td>\n",
       "      <td>on</td>\n",
       "      <td>off</td>\n",
       "      <td>on</td>\n",
       "      <td>7</td>\n",
       "    </tr>\n",
       "    <tr>\n",
       "      <th>8</th>\n",
       "      <td>on</td>\n",
       "      <td>on</td>\n",
       "      <td>on</td>\n",
       "      <td>on</td>\n",
       "      <td>on</td>\n",
       "      <td>on</td>\n",
       "      <td>on</td>\n",
       "      <td>8</td>\n",
       "    </tr>\n",
       "    <tr>\n",
       "      <th>9</th>\n",
       "      <td>on</td>\n",
       "      <td>off</td>\n",
       "      <td>on</td>\n",
       "      <td>on</td>\n",
       "      <td>on</td>\n",
       "      <td>on</td>\n",
       "      <td>on</td>\n",
       "      <td>9</td>\n",
       "    </tr>\n",
       "  </tbody>\n",
       "</table>\n",
       "</div>"
      ],
      "text/plain": [
       "  bottom bottom_left bottom_right middle  top top_left top_right  y\n",
       "0     on          on           on    off   on       on        on  0\n",
       "1    off         off           on    off  off      off        on  1\n",
       "2     on          on          off     on   on      off        on  2\n",
       "3     on         off           on     on   on      off        on  3\n",
       "4    off         off           on     on  off       on        on  4\n",
       "5     on         off           on     on   on       on       off  5\n",
       "6     on          on           on     on   on       on       off  6\n",
       "7    off         off           on    off   on      off        on  7\n",
       "8     on          on           on     on   on       on        on  8\n",
       "9     on         off           on     on   on       on        on  9"
      ]
     },
     "execution_count": 9,
     "metadata": {},
     "output_type": "execute_result"
    }
   ],
   "source": [
    "D"
   ]
  },
  {
   "cell_type": "markdown",
   "metadata": {},
   "source": [
    "## 3.1 Representation"
   ]
  },
  {
   "cell_type": "markdown",
   "metadata": {},
   "source": [
    "Consider the task of using the LED features to discrimminate only among classes ${\\tt 2}$, ${\\tt 3}$, and ${\\tt 4}$.  How would you do it?  Looking at the cell below, it's clear that class ${\\tt 4}$ is the only one for which ${\\tt upper\\_left} = {\\tt on}$.  A rule is a natural way to express that idea:\n",
    "\n",
    "``\n",
    "if upper_left == on then\n",
    "  y = 4\n",
    "``\n",
    "\n",
    "Observing the value of a single feature is enough to determine that the instance belongs to class ${\\tt 4}$ and not class ${\\tt 2}$ or class ${\\tt 3}$.  But what if ${\\tt upper\\_left} = {\\tt off}$?  In that case the instance is either a ${\\tt 2}$ or a ${\\tt 3}$.  Between the ${\\tt 2}$ and the ${\\tt 3}$, the ${\\tt 2}$ is the only one for which ${\\tt bottom\\_right} = {\\tt off}$.  Let's modify the rule above to capture that insight:\n",
    "\n",
    "``\n",
    "if upper_left == on then\n",
    "  label = 4\n",
    "else if bottom_right == off then\n",
    "  label = 2\n",
    "else\n",
    "  label = 3\n",
    "``\n",
    "\n",
    "To apply this rule to a new instance, we first check the value of ${\\tt upper\\_left}$.  If its value is ${\\tt on}$ then the digit is a ${\\tt 4}$.  Otherwise, we keep going and check the value of ${\\tt bottom\\_right}$.  If its value is ${\\tt off}$ then the digit is a ${\\tt 2}$.  Otherwise, the only option left is for the digit to be a ${\\tt 3}$."
   ]
  },
  {
   "cell_type": "code",
   "execution_count": 10,
   "metadata": {},
   "outputs": [
    {
     "data": {
      "image/png": "[encoded data removed]",
      "text/plain": [
       "<Figure size 648x216 with 3 Axes>"
      ]
     },
     "metadata": {},
     "output_type": "display_data"
    }
   ],
   "source": [
    "D = led_dataset(labels = [2, 3, 4], samples = 1, noise = 0.0)\n",
    "plot_led(D, cols = 3)"
   ]
  },
  {
   "cell_type": "markdown",
   "metadata": {},
   "source": [
    "## 3.2 Learning"
   ]
  },
  {
   "cell_type": "markdown",
   "metadata": {},
   "source": [
    "## 3.3 Overfitting"
   ]
  },
  {
   "cell_type": "code",
   "execution_count": 11,
   "metadata": {},
   "outputs": [],
   "source": [
    "def entropy(df, label):\n",
    "    return sum([-p * log(p) \n",
    "                for p in df[label].value_counts(normalize = True)])\n",
    "    \n",
    "    \n",
    "def gain(groups, label):\n",
    "    df = pd.concat(group[1] for group in groups)\n",
    "    ig = entropy(df, label)\n",
    "    ig -= sum((len(group[1]) / len(df)) * entropy(group[1], label) \n",
    "              for group in groups)\n",
    "    return ig\n",
    "\n",
    "\n",
    "def train(df, label = 'y', nmin = 1):\n",
    "        \n",
    "    if len(df) <= nmin or len(df[label].value_counts()) == 1:\n",
    "        return {'label' : df[label].value_counts().idxmax()}\n",
    "            \n",
    "    splits = []\n",
    "    for feature in set(df.columns).difference(set([label])):\n",
    "        \n",
    "        if df[feature].dtype == float:\n",
    "            vals = sorted(df[feature].unique())\n",
    "            for t in [(a + b) / 2 for a, b in zip(vals, vals[1:])]:\n",
    "                groups = df.groupby(by = (df[feature] <= t))\n",
    "                splits.append({'groups':groups, 'feature':feature, \n",
    "                               'threshold':t, 'gain':gain(groups, label)})\n",
    "                \n",
    "        else:\n",
    "            groups = df.groupby(by = df[feature])\n",
    "            splits.append({'groups':groups, 'feature':feature, \n",
    "                           'threshold':None, 'gain':gain(groups, label)})\n",
    "           \n",
    "    tree = sorted(splits, reverse = True, \n",
    "                  key = lambda split: split['gain'])[0]\n",
    "    if tree['gain'] == 0:\n",
    "        return {'label' : df[label].value_counts().idxmax()}\n",
    "    \n",
    "    tree['children'] = {group[0]:train(group[1], label, nmin) \n",
    "                        for group in tree['groups']}\n",
    "    \n",
    "    return tree\n",
    "\n",
    "\n",
    "def test(tree, x):\n",
    "    if isinstance(x, pd.DataFrame):\n",
    "        return [test(tree, row) for _, row in x.iterrows()]\n",
    "    \n",
    "    if 'label' in tree:\n",
    "        return tree['label']\n",
    "    \n",
    "    val = x[tree['feature']]\n",
    "    if 'threshold' in tree:\n",
    "        val = val <= tree['threshold']\n",
    "        \n",
    "    return test(tree['children'][val], x)\n",
    "\n",
    "\n",
    "\n",
    "def prune(tree, df, label = 'y'):\n",
    "    \n",
    "    if 'label' in tree:\n",
    "        return tree\n",
    "    \n",
    "    if 'threshold' in tree:\n",
    "        groups = df.groupby(by = (df[tree['feature']] < tree['threshold']))\n",
    "    else:\n",
    "        groups = df.groupby(by = df[tree['feature']])\n",
    "        \n",
    "    tree['children'] = {group[0]:prune(tree['children'][group[0]], group[1], label = label) for group in groups}\n",
    "    \n",
    "    leaf_errors = len(df) - max(df[label].value_counts())\n",
    "    tree_errors = sum(y != yhat for y, yhat in zip(df[label], test(tree, df)))\n",
    "    if leaf_errors <= tree_errors:\n",
    "        return {'label' : df[label].value_counts().idxmax()}\n",
    "    \n",
    "    return tree"
   ]
  },
  {
   "cell_type": "code",
   "execution_count": 12,
   "metadata": {},
   "outputs": [],
   "source": [
    "df = led_dataset(labels = [2, 3, 4], noise = 0.1, samples = 100)"
   ]
  },
  {
   "cell_type": "code",
   "execution_count": 13,
   "metadata": {},
   "outputs": [],
   "source": [
    "tree = train(df, nmin = 20)"
   ]
  },
  {
   "cell_type": "code",
   "execution_count": 14,
   "metadata": {},
   "outputs": [
    {
     "data": {
      "text/plain": [
       "{'children': {'off': {'children': {'off': {'children': {'off': {'label': 3},\n",
       "      'on': {'children': {'off': {'label': 4},\n",
       "        'on': {'children': {'off': {'label': 3},\n",
       "          'on': {'children': {'off': {'label': 3},\n",
       "            'on': {'children': {'off': {'label': 3}, 'on': {'label': 3}},\n",
       "             'feature': 'top',\n",
       "             'gain': 0.0018170557845632734,\n",
       "             'groups': <pandas.core.groupby.groupby.DataFrameGroupBy object at 0x114a25860>,\n",
       "             'threshold': None}},\n",
       "           'feature': 'middle',\n",
       "           'gain': 0.0022477268066988937,\n",
       "           'groups': <pandas.core.groupby.groupby.DataFrameGroupBy object at 0x114a256a0>,\n",
       "           'threshold': None}},\n",
       "         'feature': 'top_right',\n",
       "         'gain': 0.0024088045277340236,\n",
       "         'groups': <pandas.core.groupby.groupby.DataFrameGroupBy object at 0x11499c780>,\n",
       "         'threshold': None}},\n",
       "       'feature': 'bottom',\n",
       "       'gain': 0.15157705172180522,\n",
       "       'groups': <pandas.core.groupby.groupby.DataFrameGroupBy object at 0x1149d29e8>,\n",
       "       'threshold': None}},\n",
       "     'feature': 'bottom_right',\n",
       "     'gain': 0.16107904622550828,\n",
       "     'groups': <pandas.core.groupby.groupby.DataFrameGroupBy object at 0x1149d2748>,\n",
       "     'threshold': None},\n",
       "    'on': {'children': {'off': {'children': {'off': {'label': 4},\n",
       "        'on': {'label': 4}},\n",
       "       'feature': 'top',\n",
       "       'gain': 0.044654661600262185,\n",
       "       'groups': <pandas.core.groupby.groupby.DataFrameGroupBy object at 0x11499c240>,\n",
       "       'threshold': None},\n",
       "      'on': {'label': 4}},\n",
       "     'feature': 'bottom',\n",
       "     'gain': 0.06487655163875977,\n",
       "     'groups': <pandas.core.groupby.groupby.DataFrameGroupBy object at 0x1149d22b0>,\n",
       "     'threshold': None}},\n",
       "   'feature': 'top_left',\n",
       "   'gain': 0.40779604659967766,\n",
       "   'groups': <pandas.core.groupby.groupby.DataFrameGroupBy object at 0x1149ca9e8>,\n",
       "   'threshold': None},\n",
       "  'on': {'children': {'off': {'children': {'off': {'label': 2},\n",
       "      'on': {'label': 2}},\n",
       "     'feature': 'top_left',\n",
       "     'gain': 0.029519864237054154,\n",
       "     'groups': <pandas.core.groupby.groupby.DataFrameGroupBy object at 0x1149d2be0>,\n",
       "     'threshold': None},\n",
       "    'on': {'children': {'off': {'label': 2}, 'on': {'label': 4}},\n",
       "     'feature': 'top_left',\n",
       "     'gain': 0.24250095405525873,\n",
       "     'groups': <pandas.core.groupby.groupby.DataFrameGroupBy object at 0x11499c390>,\n",
       "     'threshold': None}},\n",
       "   'feature': 'bottom_right',\n",
       "   'gain': 0.1784097842987752,\n",
       "   'groups': <pandas.core.groupby.groupby.DataFrameGroupBy object at 0x1149caa90>,\n",
       "   'threshold': None}},\n",
       " 'feature': 'bottom_left',\n",
       " 'gain': 0.3923700972871037,\n",
       " 'groups': <pandas.core.groupby.groupby.DataFrameGroupBy object at 0x1149a71d0>,\n",
       " 'threshold': None}"
      ]
     },
     "execution_count": 14,
     "metadata": {},
     "output_type": "execute_result"
    }
   ],
   "source": [
    "tree"
   ]
  },
  {
   "cell_type": "code",
   "execution_count": 15,
   "metadata": {},
   "outputs": [],
   "source": [
    "df = pd.read_csv('iris.csv')"
   ]
  },
  {
   "cell_type": "code",
   "execution_count": 16,
   "metadata": {},
   "outputs": [],
   "source": [
    "tree = train(df, label = 'species')"
   ]
  },
  {
   "cell_type": "code",
   "execution_count": 17,
   "metadata": {},
   "outputs": [
    {
     "data": {
      "text/plain": [
       "{'children': {False: {'children': {False: {'children': {False: {'label': 'virginica'},\n",
       "      True: {'children': {False: {'label': 'versicolor'},\n",
       "        True: {'label': 'virginica'}},\n",
       "       'feature': 'sepal_width',\n",
       "       'gain': 0.6365141682948128,\n",
       "       'groups': <pandas.core.groupby.groupby.DataFrameGroupBy object at 0x114abd160>,\n",
       "       'threshold': 3.1}},\n",
       "     'feature': 'petal_length',\n",
       "     'gain': 0.06322064552064222,\n",
       "     'groups': <pandas.core.groupby.groupby.DataFrameGroupBy object at 0x114ab4898>,\n",
       "     'threshold': 4.85},\n",
       "    True: {'children': {False: {'children': {False: {'children': {False: {'label': 'virginica'},\n",
       "          True: {'label': 'versicolor'}},\n",
       "         'feature': 'sepal_length',\n",
       "         'gain': 0.6365141682948128,\n",
       "         'groups': <pandas.core.groupby.groupby.DataFrameGroupBy object at 0x114ac8a58>,\n",
       "         'threshold': 6.95},\n",
       "        True: {'label': 'virginica'}},\n",
       "       'feature': 'petal_width',\n",
       "       'gain': 0.3182570841474064,\n",
       "       'groups': <pandas.core.groupby.groupby.DataFrameGroupBy object at 0x114ac77f0>,\n",
       "       'threshold': 1.55},\n",
       "      True: {'children': {False: {'label': 'virginica'},\n",
       "        True: {'label': 'versicolor'}},\n",
       "       'feature': 'petal_width',\n",
       "       'gain': 0.10126481756679193,\n",
       "       'groups': <pandas.core.groupby.groupby.DataFrameGroupBy object at 0x114ac7cf8>,\n",
       "       'threshold': 1.65}},\n",
       "     'feature': 'petal_length',\n",
       "     'gain': 0.14775848318342075,\n",
       "     'groups': <pandas.core.groupby.groupby.DataFrameGroupBy object at 0x114aabef0>,\n",
       "     'threshold': 4.95}},\n",
       "   'feature': 'petal_width',\n",
       "   'gain': 0.4783827151228094,\n",
       "   'groups': <pandas.core.groupby.groupby.DataFrameGroupBy object at 0x114a6d978>,\n",
       "   'threshold': 1.75},\n",
       "  True: {'label': 'setosa'}},\n",
       " 'feature': 'petal_width',\n",
       " 'gain': 0.6365141682948128,\n",
       " 'groups': <pandas.core.groupby.groupby.DataFrameGroupBy object at 0x1149ca828>,\n",
       " 'threshold': 0.8}"
      ]
     },
     "execution_count": 17,
     "metadata": {},
     "output_type": "execute_result"
    }
   ],
   "source": [
    "prune(tree, df, 'species')"
   ]
  },
  {
   "cell_type": "code",
   "execution_count": 28,
   "metadata": {},
   "outputs": [],
   "source": [
    "def tree_plot(tree, graph = None, parent_id = None, edge_label = ''):\n",
    "    \n",
    "    if not graph:\n",
    "        graph = graphviz.Digraph()\n",
    "        graph.graph_attr['next_id'] = '0'\n",
    "     \n",
    "    if 'label' in tree:\n",
    "        text = tree['label']\n",
    "    else:\n",
    "        text = tree['feature']\n",
    "        if 'threshold' in tree and tree['threshold'] is not None:\n",
    "            text += ' <= ' + str(tree['threshold'])\n",
    "    \n",
    "    this_id = graph.graph_attr['next_id']\n",
    "    graph.node(str(this_id), str(text))\n",
    "    graph.graph_attr['next_id'] = str(int(graph.graph_attr['next_id']) + 1)\n",
    "    \n",
    "    if parent_id:\n",
    "        graph.edge(parent_id, this_id, label = ' ' + edge_label + ' ')\n",
    "      \n",
    "    if 'children' in tree:\n",
    "        for child in tree['children']:\n",
    "            tree_plot(tree['children'][child], graph, this_id, child)\n",
    "    \n",
    "    return graph\n",
    "    "
   ]
  },
  {
   "cell_type": "code",
   "execution_count": 29,
   "metadata": {},
   "outputs": [
    {
     "ename": "TypeError",
     "evalue": "Can't convert 'bool' object to str implicitly",
     "output_type": "error",
     "traceback": [
      "\u001b[0;31m---------------------------------------------------------------------------\u001b[0m",
      "\u001b[0;31mTypeError\u001b[0m                                 Traceback (most recent call last)",
      "\u001b[0;32m<ipython-input-29-db2aa6fd85de>\u001b[0m in \u001b[0;36m<module>\u001b[0;34m()\u001b[0m\n\u001b[0;32m----> 1\u001b[0;31m \u001b[0mx\u001b[0m \u001b[0;34m=\u001b[0m \u001b[0mtree_plot\u001b[0m\u001b[0;34m(\u001b[0m\u001b[0mtree\u001b[0m\u001b[0;34m)\u001b[0m\u001b[0;34m\u001b[0m\u001b[0m\n\u001b[0m",
      "\u001b[0;32m<ipython-input-28-a0acc63f4584>\u001b[0m in \u001b[0;36mtree_plot\u001b[0;34m(tree, graph, parent_id, edge_label)\u001b[0m\n\u001b[1;32m     21\u001b[0m     \u001b[0;32mif\u001b[0m \u001b[0;34m'children'\u001b[0m \u001b[0;32min\u001b[0m \u001b[0mtree\u001b[0m\u001b[0;34m:\u001b[0m\u001b[0;34m\u001b[0m\u001b[0m\n\u001b[1;32m     22\u001b[0m         \u001b[0;32mfor\u001b[0m \u001b[0mchild\u001b[0m \u001b[0;32min\u001b[0m \u001b[0mtree\u001b[0m\u001b[0;34m[\u001b[0m\u001b[0;34m'children'\u001b[0m\u001b[0;34m]\u001b[0m\u001b[0;34m:\u001b[0m\u001b[0;34m\u001b[0m\u001b[0m\n\u001b[0;32m---> 23\u001b[0;31m             \u001b[0mtree_plot\u001b[0m\u001b[0;34m(\u001b[0m\u001b[0mtree\u001b[0m\u001b[0;34m[\u001b[0m\u001b[0;34m'children'\u001b[0m\u001b[0;34m]\u001b[0m\u001b[0;34m[\u001b[0m\u001b[0mchild\u001b[0m\u001b[0;34m]\u001b[0m\u001b[0;34m,\u001b[0m \u001b[0mgraph\u001b[0m\u001b[0;34m,\u001b[0m \u001b[0mthis_id\u001b[0m\u001b[0;34m,\u001b[0m \u001b[0mchild\u001b[0m\u001b[0;34m)\u001b[0m\u001b[0;34m\u001b[0m\u001b[0m\n\u001b[0m\u001b[1;32m     24\u001b[0m \u001b[0;34m\u001b[0m\u001b[0m\n\u001b[1;32m     25\u001b[0m     \u001b[0;32mreturn\u001b[0m \u001b[0mgraph\u001b[0m\u001b[0;34m\u001b[0m\u001b[0m\n",
      "\u001b[0;32m<ipython-input-28-a0acc63f4584>\u001b[0m in \u001b[0;36mtree_plot\u001b[0;34m(tree, graph, parent_id, edge_label)\u001b[0m\n\u001b[1;32m     17\u001b[0m \u001b[0;34m\u001b[0m\u001b[0m\n\u001b[1;32m     18\u001b[0m     \u001b[0;32mif\u001b[0m \u001b[0mparent_id\u001b[0m\u001b[0;34m:\u001b[0m\u001b[0;34m\u001b[0m\u001b[0m\n\u001b[0;32m---> 19\u001b[0;31m         \u001b[0mgraph\u001b[0m\u001b[0;34m.\u001b[0m\u001b[0medge\u001b[0m\u001b[0;34m(\u001b[0m\u001b[0mparent_id\u001b[0m\u001b[0;34m,\u001b[0m \u001b[0mthis_id\u001b[0m\u001b[0;34m,\u001b[0m \u001b[0mlabel\u001b[0m \u001b[0;34m=\u001b[0m \u001b[0;34m' '\u001b[0m \u001b[0;34m+\u001b[0m \u001b[0medge_label\u001b[0m \u001b[0;34m+\u001b[0m \u001b[0;34m' '\u001b[0m\u001b[0;34m)\u001b[0m\u001b[0;34m\u001b[0m\u001b[0m\n\u001b[0m\u001b[1;32m     20\u001b[0m \u001b[0;34m\u001b[0m\u001b[0m\n\u001b[1;32m     21\u001b[0m     \u001b[0;32mif\u001b[0m \u001b[0;34m'children'\u001b[0m \u001b[0;32min\u001b[0m \u001b[0mtree\u001b[0m\u001b[0;34m:\u001b[0m\u001b[0;34m\u001b[0m\u001b[0m\n",
      "\u001b[0;31mTypeError\u001b[0m: Can't convert 'bool' object to str implicitly"
     ]
    }
   ],
   "source": [
    "x = tree_plot(tree)"
   ]
  },
  {
   "cell_type": "code",
   "execution_count": null,
   "metadata": {},
   "outputs": [],
   "source": [
    "x.view()"
   ]
  },
  {
   "cell_type": "code",
   "execution_count": 30,
   "metadata": {},
   "outputs": [],
   "source": [
    "D = led_dataset(labels = [2, 3, 4], samples = 10, noise = 0)"
   ]
  },
  {
   "cell_type": "code",
   "execution_count": 31,
   "metadata": {},
   "outputs": [],
   "source": [
    "tree = train(D)"
   ]
  },
  {
   "cell_type": "code",
   "execution_count": 32,
   "metadata": {},
   "outputs": [],
   "source": [
    "x = tree_plot(tree)"
   ]
  },
  {
   "cell_type": "code",
   "execution_count": 33,
   "metadata": {},
   "outputs": [
    {
     "data": {
      "text/plain": [
       "'Digraph.gv.pdf'"
      ]
     },
     "execution_count": 33,
     "metadata": {},
     "output_type": "execute_result"
    }
   ],
   "source": [
    "x.view()"
   ]
  },
  {
   "cell_type": "code",
   "execution_count": null,
   "metadata": {},
   "outputs": [],
   "source": [
    "D"
   ]
  },
  {
   "cell_type": "markdown",
   "metadata": {},
   "source": [
    "<sup>1</sup> Dua, D. and Graff, C. (2019). UCI Machine Learning Repository [http://archive.ics.uci.edu/ml]. Irvine, CA: University of California, School of Information and Computer Science.\n",
    "\n"
   ]
  },
  {
   "cell_type": "code",
   "execution_count": null,
   "metadata": {},
   "outputs": [],
   "source": []
  }
 ],
 "metadata": {
  "kernelspec": {
   "display_name": "Python [conda env:anaconda3]",
   "language": "python",
   "name": "conda-env-anaconda3-py"
  },
  "language_info": {
   "codemirror_mode": {
    "name": "ipython",
    "version": 3
   },
   "file_extension": ".py",
   "mimetype": "text/x-python",
   "name": "python",
   "nbconvert_exporter": "python",
   "pygments_lexer": "ipython3",
   "version": "3.5.6"
  }
 },
 "nbformat": 4,
 "nbformat_minor": 2
}
