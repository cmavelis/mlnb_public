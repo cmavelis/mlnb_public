{
 "cells": [
  {
   "cell_type": "code",
   "execution_count": 1,
   "id": "30e4d58d-4ed5-4acb-a44e-94e4a6688e99",
   "metadata": {},
   "outputs": [],
   "source": [
    "import matplotlib.pyplot as plt\n",
    "import numpy as np"
   ]
  },
  {
   "cell_type": "code",
   "execution_count": 2,
   "id": "916359ae-af36-467c-adf0-7ec3d9fe50b8",
   "metadata": {},
   "outputs": [],
   "source": [
    "def sigmoid(x):\n",
    "    return 1 / (1 + np.exp(-x))"
   ]
  },
  {
   "cell_type": "code",
   "execution_count": 7,
   "id": "deff6b00-f7f8-48f0-8a91-d54a58c43609",
   "metadata": {},
   "outputs": [],
   "source": [
    "def plot_sign():\n",
    "    x = np.linspace(-8, 8, 100)\n",
    "    y = np.sign(x)\n",
    "    plt.ylim(-1.1, 1.1)\n",
    "    plt.plot(x, y)\n",
    "\n",
    "    ax = plt.gca()\n",
    "    ax.set_xlabel(r'${\\bf w} \\cdot {\\bf x}$')\n",
    "    ax.set_ylabel(r'$y$')\n",
    "    \n",
    "    plt.title(r'Perceptron class label as a function of ${\\bf w} \\cdot {\\bf x}$')\n",
    "\n",
    "    plt.show()"
   ]
  },
  {
   "cell_type": "code",
   "execution_count": null,
   "id": "85a6d214-2ad5-4a08-8a4d-10a0285cbaa2",
   "metadata": {},
   "outputs": [],
   "source": []
  },
  {
   "cell_type": "code",
   "execution_count": 5,
   "id": "4cfbad89-84c0-4f6a-b59d-067b7981e1cb",
   "metadata": {},
   "outputs": [],
   "source": [
    "def plot_logistic(generic = True):\n",
    "    x = np.linspace(-8, 8, 100)\n",
    "    y = sigmoid(x)\n",
    "    plt.ylim(-0.1, 1.1)\n",
    "    plt.plot(x, y)\n",
    "    plt.axvline(x = 0, ls = '--', lw = 0.5, color = 'black')\n",
    "    plt.axhline(y = 0.5, ls = '--', lw = 0.5, color = 'black')\n",
    "    ax = plt.gca()\n",
    "    if generic:\n",
    "        ax.set_xlabel(r'$x$')\n",
    "        ax.set_ylabel(r'$\\sigma(x)$')\n",
    "    else:\n",
    "        ax.set_xlabel(r'${\\bf w} \\cdot {\\bf x}$')\n",
    "        ax.set_ylabel(r'$p_{\\bf w} ^{1}({\\bf x})$')\n",
    "    plt.show()"
   ]
  },
  {
   "cell_type": "code",
   "execution_count": null,
   "id": "2afd2816-b05f-487b-a95b-aabb109266a4",
   "metadata": {},
   "outputs": [],
   "source": []
  },
  {
   "cell_type": "code",
   "execution_count": 9,
   "id": "bd1596a3-073d-4bb8-8349-0a37fe214d63",
   "metadata": {},
   "outputs": [],
   "source": [
    "def plot_MLE():\n",
    "    x = np.linspace(0.01, 0.99, 100)\n",
    "    y = np.power(x, 7) * np.power(1 - x, 3)\n",
    "    ax = plt.gca()\n",
    "    ax.set_xlabel(r'$\\theta$')\n",
    "    ax.set_ylabel(r'$L(D; \\theta)$')\n",
    "    plt.title(r'Probability of 7 heads and 3 tails as a function of $p({\\tt heads})$')\n",
    "    plt.plot(x, y)\n",
    "    plt.show()    "
   ]
  },
  {
   "cell_type": "code",
   "execution_count": 12,
   "id": "725cfe0a-b6c5-4420-b560-ac943a12a4ad",
   "metadata": {},
   "outputs": [],
   "source": [
    "def plot_ln():\n",
    "    x = np.linspace(0.01, 0.99, 100)\n",
    "    y = np.log(x)\n",
    "    ax = plt.gca()\n",
    "    ax.set_xlabel(r'$p$')\n",
    "    ax.set_ylabel(r'$\\log(p)$')\n",
    "    plt.title(r'The log is monotone with respect to its argument')\n",
    "    plt.plot(x, y)\n",
    "    plt.show()    "
   ]
  },
  {
   "cell_type": "code",
   "execution_count": null,
   "id": "311ea786-9c7c-4952-bba6-3aae6afa3242",
   "metadata": {},
   "outputs": [],
   "source": []
  },
  {
   "cell_type": "code",
   "execution_count": null,
   "id": "5b13f431-5777-45a9-be2e-c830e193e71f",
   "metadata": {},
   "outputs": [],
   "source": []
  },
  {
   "cell_type": "code",
   "execution_count": null,
   "id": "92c15c27-2edf-416a-b910-af8a640d0b22",
   "metadata": {},
   "outputs": [],
   "source": []
  }
 ],
 "metadata": {
  "kernelspec": {
   "display_name": "Python 3",
   "language": "python",
   "name": "python3"
  },
  "language_info": {
   "codemirror_mode": {
    "name": "ipython",
    "version": 3
   },
   "file_extension": ".py",
   "mimetype": "text/x-python",
   "name": "python",
   "nbconvert_exporter": "python",
   "pygments_lexer": "ipython3",
   "version": "3.8.8"
  }
 },
 "nbformat": 4,
 "nbformat_minor": 5
}
